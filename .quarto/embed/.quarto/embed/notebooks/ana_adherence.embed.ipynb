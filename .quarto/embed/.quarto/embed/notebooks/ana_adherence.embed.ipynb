{
  "cells": [
    {
      "cell_type": "markdown",
      "metadata": {},
      "source": [
        "# EMA adherence\n",
        "\n",
        "Kendra Wyant  \n",
        "2025-05-07\n",
        "\n",
        "Purpose: This file calculates overall weekly EMA adherence using EMA\n",
        "survey data (`survey_daily.csv`).\n",
        "\n",
        "## Set up"
      ],
      "id": "53f27756-427b-4996-8f19-6faf54ac7223"
    },
    {
      "cell_type": "code",
      "execution_count": null,
      "metadata": {},
      "outputs": [],
      "source": [
        "#| message: false\n",
        "#| warning: false\n",
        "#| code-fold: true\n",
        "\n",
        "options(conflicts.policy = \"depends.ok\")\n",
        "library(tidyverse) \n",
        "library(lubridate)\n",
        "library(skimr)\n",
        "library(DiagrammeR) # for flowchart\n",
        "\n",
        "devtools::source_url(\"https://github.com/jjcurtin/lab_support/blob/main/format_path.R?raw=true\")\n",
        "\n",
        "theme_set(theme_classic())\n",
        "\n",
        "path_burden <- format_path(\"studydata/risk2/data_processed/burden2\")\n",
        "path_shared <- format_path(\"studydata/risk2/data_processed/shared\")"
      ],
      "id": "4b68f545-6e5c-4f98-ad5d-da165fe935d8"
    },
    {
      "cell_type": "markdown",
      "metadata": {},
      "source": [
        "### Data"
      ],
      "id": "8f4cda61-d334-40b2-8ce9-bdf942b87239"
    },
    {
      "cell_type": "code",
      "execution_count": null,
      "metadata": {},
      "outputs": [],
      "source": [
        "ema <- read_csv(here::here(path_shared, \"survey_daily.csv\"),\n",
        "                show_col_types = FALSE)\n",
        "\n",
        "monthly <- read_csv(here::here(path_shared, \"survey_monthly.csv\"),\n",
        "                col_types = \"dccTTccccccccccccccccccccccccccccccccc\") \n",
        "\n",
        "burden_quant <- read_csv(here::here(path_burden, \"burden_quant.csv\"),\n",
        "                   show_col_types = FALSE)\n",
        "\n",
        "dem <- read_csv(here::here(path_burden, \"demographics.csv\"),\n",
        "                show_col_types = FALSE) \n",
        "\n",
        "lapses <- read_csv(here::here(path_shared, \"survey_lapses.csv\"), col_types = cols()) "
      ],
      "id": "e01ba986-4670-4d04-87d2-fcbcdcdd55fd"
    },
    {
      "cell_type": "markdown",
      "metadata": {},
      "source": [
        "burden subids"
      ],
      "id": "4eeaded1-ebf3-45d7-81a6-6791bd681119"
    },
    {
      "cell_type": "code",
      "execution_count": null,
      "metadata": {},
      "outputs": [],
      "source": [
        "burden_subids <- burden_quant |> \n",
        "  pull(subid) |>\n",
        "  unique()"
      ],
      "id": "f287ea5b-1b94-42c3-8a07-d639fb767471"
    },
    {
      "cell_type": "markdown",
      "metadata": {},
      "source": [
        "### Disposition\n",
        "\n",
        "Study start and end dates for each subid"
      ],
      "id": "5eaef119-50d6-45ec-915d-3b259cf721f7"
    },
    {
      "cell_type": "code",
      "execution_count": null,
      "metadata": {},
      "outputs": [],
      "source": [
        "study_start <- ema |> \n",
        "  group_by(subid) |> \n",
        "  arrange(start_date) |> \n",
        "  slice(1) |> \n",
        "  ungroup() |> \n",
        "  mutate(study_start = as_date(start_date)) |> \n",
        "  select(subid, study_start)\n",
        "\n",
        "study_end <- ema |> \n",
        "  group_by(subid) |> \n",
        "  arrange(desc(start_date)) |> \n",
        "  slice(1) |> \n",
        "  ungroup() |> \n",
        "  mutate(study_end = as_date(start_date)) |> \n",
        "  select(subid, study_end)\n",
        "\n",
        "dates <- study_start |> \n",
        "  full_join(study_end, by = \"subid\") |> \n",
        "  mutate(study_days = study_end - study_start)"
      ],
      "id": "ee66f764-b180-465a-a5ae-8afa7ffdc418"
    },
    {
      "cell_type": "markdown",
      "metadata": {},
      "source": [
        "Days on study\n",
        "\n",
        "336 participants started study/provided at least one month of EMA."
      ],
      "id": "104595c9-d62c-46e8-97a8-2ec963e95c4a"
    },
    {
      "cell_type": "code",
      "execution_count": null,
      "metadata": {},
      "outputs": [
        {
          "output_type": "display_data",
          "metadata": {},
          "data": {
            "text/markdown": [
              "  --------------------------------------------------------------------------------\n",
              "  skim_variable     n_missing   complete_rate min     max      median     n_unique\n",
              "  --------------- ----------- --------------- ------- -------- -------- ----------\n",
              "  study_days                0               1 31 days 452 days 356 days        152\n",
              "\n",
              "  --------------------------------------------------------------------------------\n"
            ]
          }
        }
      ],
      "source": [
        "dates |> \n",
        "  skim(study_days) |> \n",
        "  yank(\"difftime\")"
      ],
      "id": "a0feb787-7354-4372-821c-7cf72d355782"
    },
    {
      "cell_type": "markdown",
      "metadata": {},
      "source": [
        "For participants who completed burden study:  \n",
        "Min days on study = 122 days (all participants provided data for at\n",
        "least 4 months)"
      ],
      "id": "700a28d0-3344-48d1-9b4e-47244c3fa8a7"
    },
    {
      "cell_type": "code",
      "execution_count": null,
      "metadata": {},
      "outputs": [
        {
          "output_type": "display_data",
          "metadata": {},
          "data": {
            "text/markdown": [
              "  ---------------------------------------------------------------------------------\n",
              "  skim_variable     n_missing   complete_rate min      max      median     n_unique\n",
              "  --------------- ----------- --------------- -------- -------- -------- ----------\n",
              "  study_days                0               1 122 days 452 days 359 days         99\n",
              "\n",
              "  ---------------------------------------------------------------------------------\n"
            ]
          }
        }
      ],
      "source": [
        "dates |> \n",
        "  filter(subid %in% burden_subids) |>\n",
        "  skim(study_days) |> \n",
        "  yank(\"difftime\")"
      ],
      "id": "3ce688bf-86d7-42f2-9a81-370a3a27d9ff"
    },
    {
      "cell_type": "markdown",
      "metadata": {},
      "source": [
        "Disposition of participants by month"
      ],
      "id": "b21a9cbd-471b-4147-9e4d-4122c142afad"
    },
    {
      "cell_type": "code",
      "execution_count": null,
      "metadata": {},
      "outputs": [],
      "source": [
        "#| code-fold: true\n",
        "#|\n",
        "month_1 <- dates |> \n",
        "  filter(study_days >= 28) |> \n",
        "  nrow()\n",
        "\n",
        "month_2 <- dates |> \n",
        "  filter(study_days >= 56)  |> \n",
        "  nrow()\n",
        "\n",
        "month_3 <- dates |> \n",
        "  filter(study_days >= 84)  |> \n",
        "  nrow()\n",
        "\n",
        "month_4 <- dates |> \n",
        "  filter(study_days >= 112)  |> \n",
        "  nrow()\n",
        "\n",
        "month_4_burden <- dates |>\n",
        "  filter(study_days >= 112)  |> \n",
        "  filter(subid %in% burden_subids)  |> \n",
        "  nrow()\n",
        "\n",
        "month_5 <- dates |> \n",
        "  filter(study_days >= 140)  |> \n",
        "  nrow()\n",
        "\n",
        "month_6 <- dates |>\n",
        "  filter(study_days >= 168)  |> \n",
        "  nrow()\n",
        "\n",
        "month_7 <- dates |>\n",
        "  filter(study_days >= 196)  |> \n",
        "  nrow()\n",
        "\n",
        "month_8 <- dates |>\n",
        "  filter(study_days >= 224)  |> \n",
        "  nrow()\n",
        "\n",
        "month_9 <- dates |>\n",
        "  filter(study_days >= 252)  |> \n",
        "  nrow()\n",
        "\n",
        "month_10 <- dates |>\n",
        "  filter(study_days >= 280)  |> \n",
        "  nrow()\n",
        "\n",
        "month_11 <- dates |>\n",
        "  filter(study_days >= 308) |> \n",
        "  nrow()\n",
        "\n",
        "month_12 <- dates |>\n",
        "  filter(study_days >= 336) |> \n",
        "  nrow()"
      ],
      "id": "c7d8f4ef-9e14-4f91-9c1e-779071c570d7"
    },
    {
      "cell_type": "markdown",
      "metadata": {},
      "source": [
        "**Some participants on study past 4 months but have no burden data**"
      ],
      "id": "5092c4d6-7a0c-4580-a4a9-8da94fb72719"
    },
    {
      "cell_type": "code",
      "execution_count": null,
      "metadata": {},
      "outputs": [
        {
          "output_type": "display_data",
          "metadata": {},
          "data": {
            "text/html": [
              "<div id=\"htmlwidget-996e3bf9ad06318896e1\" style=\"width:672px;height:1000px;\" class=\"grViz html-widget\"></div>\n",
              "<script type=\"application/json\" data-for=\"htmlwidget-996e3bf9ad06318896e1\">{\"x\":{\"diagram\":\"\\n  digraph {\\n  \\n  node [fontname = \\\"Arial\\\", shape = rectangle, fixedsize = true, width = 1.7, height = .6]\\n  a [label = \\\"Month 1\\n N =  336\\\"]\\n  b [label = \\\"Month 2\\nN = 325\\\"]\\n  c [label = \\\"Month 3\\nN = 311\\\"]\\n  d1 [label = \\\"Month 4\\nN = 293\\\"]\\n  d2 [label = \\\"Month 4 + Survey\\nN = 247\\\", color = crimson]\\n  e1 [label = \\\"Month 5\\nN = 283\\\"]\\n  f1 [label = \\\"Month 6\\nN = 273\\\"]\\n  g1 [label = \\\"Month 7\\nN = 262\\\"]\\n  h1 [label = \\\"Month 8\\nN = 256\\\"]\\n  i1 [label = \\\"Month 9\\nN = 245\\\"]\\n  j1 [label = \\\"Month 10\\nN = 231\\\"]\\n  k1 [label = \\\"Month 11\\nN = 222\\\"]\\n  l1 [label = \\\"Month 12\\nN = 214\\\"]\\n  \\n  \\n  {rank = same; d1; d2}\\n  a -> b\\n  b -> c\\n  c -> d1 -> d2\\n  d1 -> e1 -> f1 -> g1 -> h1 -> i1 -> j1 -> k1 -> l1\\n  }\",\"config\":{\"engine\":\"dot\",\"options\":null}},\"evals\":[],\"jsHooks\":[]}</script>"
            ]
          }
        }
      ],
      "source": [
        "#| code-fold: true\n",
        "\n",
        "DiagrammeR::grViz(\"\n",
        "  digraph {\n",
        "  \n",
        "  node [fontname = 'Arial', shape = rectangle, fixedsize = true, width = 1.7, height = .6]\n",
        "  a [label = '@@1']\n",
        "  b [label = '@@2']\n",
        "  c [label = '@@3']\n",
        "  d1 [label = '@@4']\n",
        "  d2 [label = '@@5', color = crimson]\n",
        "  e1 [label = '@@6']\n",
        "  f1 [label = '@@7']\n",
        "  g1 [label = '@@8']\n",
        "  h1 [label = '@@9']\n",
        "  i1 [label = '@@10']\n",
        "  j1 [label = '@@11']\n",
        "  k1 [label = '@@12']\n",
        "  l1 [label = '@@13']\n",
        "  \n",
        "  \n",
        "  {rank = same; d1; d2}\n",
        "  a -> b\n",
        "  b -> c\n",
        "  c -> d1 -> d2\n",
        "  d1 -> e1 -> f1 -> g1 -> h1 -> i1 -> j1 -> k1 -> l1\n",
        "  }\n",
        "  \n",
        "  [1]: paste('Month 1\\\\n', 'N = ', month_1)\n",
        "  [2]: str_c('Month 2\\\\n', 'N = ', month_2) \n",
        "  [3]: str_c('Month 3\\\\n', 'N = ', month_3)\n",
        "  [4]: str_c('Month 4\\\\n', 'N = ', month_4)\n",
        "  [5]: str_c('Month 4 + Survey\\\\n', 'N = ', month_4_burden)\n",
        "  [6]: str_c('Month 5\\\\n', 'N = ', month_5)\n",
        "  [7]: str_c('Month 6\\\\n', 'N = ', month_6)\n",
        "  [8]: str_c('Month 7\\\\n', 'N = ', month_7)\n",
        "  [9]: str_c('Month 8\\\\n', 'N = ', month_8)\n",
        "  [10]: str_c('Month 9\\\\n', 'N = ', month_9)\n",
        "  [11]: str_c('Month 10\\\\n', 'N = ', month_10)\n",
        "  [12]: str_c('Month 11\\\\n', 'N = ', month_11)\n",
        "  [13]: str_c('Month 12\\\\n', 'N = ', month_12)\n",
        "  \", height = \"1000px\") "
      ],
      "id": "4157384e-7f4b-4c17-a1cd-272be9d5013a"
    },
    {
      "cell_type": "markdown",
      "metadata": {},
      "source": [
        "Plot attrition by month"
      ],
      "id": "16047ac1-b686-40bb-9993-dcb130f0ac71"
    },
    {
      "cell_type": "code",
      "execution_count": null,
      "metadata": {},
      "outputs": [
        {
          "output_type": "display_data",
          "metadata": {},
          "data": {
            "image/png": "[encoded data removed]"
          }
        }
      ],
      "source": [
        "#| label: fig-1\n",
        "#| fig-cap: \"Study Attrition by Month\"\n",
        "\n",
        "disposition <- tibble(n = c(month_1, month_2, month_3, month_4, month_5, month_6, \n",
        "                            month_7, month_8, month_9, month_10, month_11, month_12),\n",
        "                      prop = n/month_1,\n",
        "                      month = 1:12)\n",
        "\n",
        "\n",
        "disposition |> \n",
        "  group_by(month) |> \n",
        "  ggplot(aes(x = month, y = prop)) +\n",
        "  geom_point() +\n",
        "  geom_line() +\n",
        "  theme_classic() +\n",
        "  scale_x_continuous(name = \"Month\", \n",
        "                     breaks = seq(1, 12, 1)) +\n",
        "  scale_y_continuous(name = \"Proportion of participants retained on study\", \n",
        "                     breaks = seq(0, 1, .1), \n",
        "                     limits = c(0, 1)) +\n",
        "  labs(title = \"Participant Attrition by month (N enrolled = 336)\") +\n",
        "  theme(legend.title = element_blank()) "
      ],
      "id": "cell-fig-1"
    },
    {
      "cell_type": "markdown",
      "metadata": {},
      "source": [
        "Days on study by race"
      ],
      "id": "2d256093-70ba-42d5-93de-065b967c954c"
    },
    {
      "cell_type": "code",
      "execution_count": null,
      "metadata": {},
      "outputs": [],
      "source": [
        "dates_race <- dates |> \n",
        "  left_join(dem |> \n",
        "              select(subid, race_multiple), by = \"subid\") |> \n",
        "  mutate(race = if_else(race_multiple == \"Non-Hispanic White\", \n",
        "                                 \"Non-Hispanic White\",\n",
        "                                 \"Not White\"),\n",
        "         race = factor(race),\n",
        "         study_days = as.numeric(study_days))"
      ],
      "id": "c3181725-f070-49ba-bcad-b49c7b213f51"
    },
    {
      "cell_type": "markdown",
      "metadata": {},
      "source": [
        "Check equal variance"
      ],
      "id": "43692e36-0aa0-49d9-8a1f-cee8545547ab"
    },
    {
      "cell_type": "code",
      "execution_count": null,
      "metadata": {},
      "outputs": [],
      "source": [
        "# library(car)\n",
        "# car::leveneTest(study_days ~ race, data = dates_race)"
      ],
      "id": "86bfa7da-b625-45be-951d-b56c63ec15cb"
    },
    {
      "cell_type": "code",
      "execution_count": null,
      "metadata": {},
      "outputs": [
        {
          "output_type": "stream",
          "name": "stdout",
          "text": [
            "# A tibble: 2 × 5\n",
            "  term          estimate std.error statistic   p.value\n",
            "  <chr>            <dbl>     <dbl>     <dbl>     <dbl>\n",
            "1 (Intercept)      299.       6.96     42.9  5.83e-138\n",
            "2 raceNot White    -15.0     13.5      -1.11 2.70e-  1"
          ]
        }
      ],
      "source": [
        "lm_days_race <- lm(study_days ~ race, data = dates_race)\n",
        "broom::tidy(lm_days_race)"
      ],
      "id": "004a76d3-fa0f-4923-8336-ce3a46679c1a"
    },
    {
      "cell_type": "code",
      "execution_count": null,
      "metadata": {},
      "outputs": [
        {
          "output_type": "stream",
          "name": "stdout",
          "text": [
            "# A tibble: 2 × 4\n",
            "  race                   n mean_days sd_days\n",
            "  <fct>              <int>     <dbl>   <dbl>\n",
            "1 Non-Hispanic White   247      299.    109.\n",
            "2 Not White             89      284.    112."
          ]
        }
      ],
      "source": [
        "dates_race |> \n",
        "  group_by(race) |> \n",
        "  summarise(n = n(),\n",
        "            mean_days = mean(study_days),\n",
        "            sd_days = sd(study_days))"
      ],
      "id": "e4a90390-8e3f-4b9d-8e27-9b2918e0f6a8"
    },
    {
      "cell_type": "markdown",
      "metadata": {},
      "source": [
        "Attrition by lapse"
      ],
      "id": "62df1dc5-dbb3-4c11-ad23-a5bb48847a07"
    },
    {
      "cell_type": "code",
      "execution_count": null,
      "metadata": {},
      "outputs": [],
      "source": [
        "dates_lapse <- dates |> \n",
        "  left_join(lapses |>\n",
        "              group_by(subid) |> \n",
        "              summarise(n_lapse = n()), by = \"subid\") |>\n",
        "  mutate(n_lapse = if_else(is.na(n_lapse), 0, n_lapse),\n",
        "         lapse = if_else(n_lapse > 0, \"lapse\", \"no lapse\"),\n",
        "         lapse = factor(lapse),\n",
        "         study_days = as.numeric(study_days))"
      ],
      "id": "ab7d3a01-432b-470f-a7b7-ab161dc9ae47"
    },
    {
      "cell_type": "markdown",
      "metadata": {},
      "source": [
        "Check equal variance"
      ],
      "id": "9b3871f3-7156-4e90-8ff8-1187dde61d1a"
    },
    {
      "cell_type": "code",
      "execution_count": null,
      "metadata": {},
      "outputs": [],
      "source": [
        "# car::leveneTest(study_days ~ lapse, data = dates_lapse)"
      ],
      "id": "357373aa-832e-42c0-af11-e974b2b0ef8d"
    },
    {
      "cell_type": "code",
      "execution_count": null,
      "metadata": {},
      "outputs": [
        {
          "output_type": "stream",
          "name": "stdout",
          "text": [
            "# A tibble: 2 × 5\n",
            "  term          estimate std.error statistic   p.value\n",
            "  <chr>            <dbl>     <dbl>     <dbl>     <dbl>\n",
            "1 (Intercept)     296.        9.37    31.6   1.82e-102\n",
            "2 lapseno lapse    -2.27     12.2     -0.187 8.52e-  1"
          ]
        }
      ],
      "source": [
        "lm_days_lapse <- lm(study_days ~ lapse, data = dates_lapse)\n",
        "broom::tidy(lm_days_lapse)"
      ],
      "id": "45caf100-9b56-48d5-af01-5fac3dddcf38"
    },
    {
      "cell_type": "code",
      "execution_count": null,
      "metadata": {},
      "outputs": [
        {
          "output_type": "stream",
          "name": "stdout",
          "text": [
            "# A tibble: 2 × 4\n",
            "  lapse        n mean_days sd_days\n",
            "  <fct>    <int>     <dbl>   <dbl>\n",
            "1 lapse      137      296.    107.\n",
            "2 no lapse   199      294.    112."
          ]
        }
      ],
      "source": [
        "dates_lapse |> \n",
        "  group_by(lapse) |> \n",
        "  summarise(n = n(),\n",
        "            mean_days = mean(study_days),\n",
        "            sd_days = sd(study_days))"
      ],
      "id": "94b8872a-8f34-4036-b633-5d1862138871"
    },
    {
      "cell_type": "markdown",
      "metadata": {},
      "source": [
        "### Daily Survey Overall Adherence\n",
        "\n",
        "Get all study days for each subid"
      ],
      "id": "acd38d56-dd0b-4445-ad96-649928d6bda9"
    },
    {
      "cell_type": "code",
      "execution_count": null,
      "metadata": {},
      "outputs": [],
      "source": [
        "# function to map over\n",
        "get_study_days <- function(the_subid, dates) {\n",
        "  study_start <- dates |>  filter(subid == the_subid) |>  pull(study_start)\n",
        "  study_end <- dates |>  filter(subid == the_subid) |> pull(study_end)\n",
        "  study_days <- tibble(subid = the_subid, study_day = seq(study_start, study_end - days(1), by = \"day\")) \n",
        "  return(study_days)\n",
        "}\n",
        "\n",
        "study_dates <- dates$subid |> \n",
        "  map_dfr(~get_study_days(.x, dates))"
      ],
      "id": "ba7db9ac-6baa-40e7-b910-d2e0b2e15553"
    },
    {
      "cell_type": "markdown",
      "metadata": {},
      "source": [
        "Count surveys per study day (day starts at 6 am)"
      ],
      "id": "f0bd0a5c-0b0e-4017-95f8-8276c4cbd409"
    },
    {
      "cell_type": "code",
      "execution_count": null,
      "metadata": {},
      "outputs": [],
      "source": [
        "ema_count <- ema |>\n",
        "  mutate(study_day = if_else(hour(start_date) >= 6, \n",
        "                        as_date(start_date),\n",
        "                        as_date(start_date) - days(1))) |> \n",
        "  count(subid, study_day) \n",
        "\n",
        "\n",
        "ema_count <- ema_count |> \n",
        "  mutate(n = if_else(n > 1, 1, n))"
      ],
      "id": "f8d3bc61-4d4d-432f-9b9f-7bcd43470c7b"
    },
    {
      "cell_type": "markdown",
      "metadata": {},
      "source": [
        "Add counts to study dates"
      ],
      "id": "76356e23-3efd-4874-b774-a2a967c100c6"
    },
    {
      "cell_type": "code",
      "execution_count": null,
      "metadata": {},
      "outputs": [],
      "source": [
        "count_study_dates <- study_dates |> \n",
        "  left_join(ema_count, by = c(\"subid\", \"study_day\")) |> \n",
        "  mutate(n = if_else(is.na(n), 0, n)) |> \n",
        "  mutate(n_prompts = 1) "
      ],
      "id": "2fc3fa69-08a0-4127-90b1-f72564f631bd"
    },
    {
      "cell_type": "markdown",
      "metadata": {},
      "source": [
        "calculate mean adherence"
      ],
      "id": "55ea25b4-15fc-4dd3-8350-baa7c5c65922"
    },
    {
      "cell_type": "code",
      "execution_count": null,
      "metadata": {},
      "outputs": [],
      "source": [
        "mean_ema <- count_study_dates |> \n",
        "  group_by(subid) |> \n",
        "  summarize(n_total = sum(n), prompt_total = sum(n_prompts)) |> \n",
        "  mutate(mean = n_total/prompt_total) |> \n",
        "  ungroup() |> \n",
        "  summarize(mean = mean(mean))"
      ],
      "id": "59f020c7-5378-4bd4-ae4c-78c0b0344db3"
    },
    {
      "cell_type": "markdown",
      "metadata": {},
      "source": [
        "**On average participants (N = 336) completed 0.71 daily surveys each\n",
        "day they were on study. That is their overall adherence for a once daily\n",
        "EMA was 71%.**\n",
        "\n",
        "Hist of overall adherence by subid"
      ],
      "id": "e82510e7-f7b7-4179-9acb-741918c026e6"
    },
    {
      "cell_type": "code",
      "execution_count": null,
      "metadata": {},
      "outputs": [
        {
          "output_type": "display_data",
          "metadata": {},
          "data": {
            "image/png": "[encoded data removed]"
          }
        }
      ],
      "source": [
        "#| code-fold: true\n",
        "\n",
        "count_study_dates |> \n",
        "  group_by(subid) |> \n",
        "  summarise(n_total = sum(n),\n",
        "            n_prompts = sum(n_prompts)) |> \n",
        "  mutate(adherence = n_total/n_prompts) |> \n",
        "  ggplot(aes(x = adherence)) +\n",
        "  geom_histogram(color = \"black\", fill = \"light grey\", binwidth = .1, center = .55) +\n",
        "  scale_x_continuous(breaks = c(0, 0.10, 0.20, 0.30, 0.40, 0.50, 0.60, 0.70, 0.80, 0.90, 1.0)) +\n",
        "  labs(y = \"Frequency\", x = \"Proportion of daily survey's completed\",\n",
        "       subtitle = \"Daily Survey Adherence (N = 336)\") +\n",
        "  geom_vline(aes(xintercept = mean_ema$mean), linewidth = .3) +\n",
        "  theme_classic()"
      ],
      "id": "52c8cdc5-6a2a-470a-879c-0998f2df508d"
    },
    {
      "cell_type": "markdown",
      "metadata": {},
      "source": [
        "Adherence by race"
      ],
      "id": "5703fa76-08e0-4d51-a14a-0b6ef9dc5930"
    },
    {
      "cell_type": "code",
      "execution_count": null,
      "metadata": {},
      "outputs": [
        {
          "output_type": "stream",
          "name": "stdout",
          "text": [
            "# A tibble: 2 × 5\n",
            "  term          estimate std.error statistic   p.value\n",
            "  <chr>            <dbl>     <dbl>     <dbl>     <dbl>\n",
            "1 (Intercept)     0.720     0.0119    60.4   7.54e-182\n",
            "2 raceNot White  -0.0204    0.0232    -0.880 3.79e-  1"
          ]
        }
      ],
      "source": [
        "daily_race <- count_study_dates |> \n",
        "  group_by(subid) |> \n",
        "  summarize(n_total = sum(n), prompt_total = sum(n_prompts)) |> \n",
        "  mutate(mean = n_total/prompt_total) |> \n",
        "  left_join(dem |> \n",
        "              select(subid, race_multiple), by = \"subid\") |> \n",
        "  mutate(race = if_else(race_multiple == \"Non-Hispanic White\", \"Non-Hispanic White\", \"Not White\"),\n",
        "         race = factor(race))\n",
        "\n",
        "lm_daily_race<- lm(mean ~ race, data = daily_race)\n",
        "\n",
        "broom::tidy(lm_daily_race)"
      ],
      "id": "22acaa38-7963-4dc6-8815-ef5030600653"
    },
    {
      "cell_type": "code",
      "execution_count": null,
      "metadata": {},
      "outputs": [
        {
          "output_type": "stream",
          "name": "stdout",
          "text": [
            "# A tibble: 2 × 4\n",
            "  race                   n mean_adherence    sd\n",
            "  <fct>              <int>          <dbl> <dbl>\n",
            "1 Non-Hispanic White   247          0.720 0.185\n",
            "2 Not White             89          0.700 0.194"
          ]
        }
      ],
      "source": [
        "daily_race |> \n",
        "  group_by(race) |> \n",
        "  summarise(n = n(),\n",
        "            mean_adherence = mean(mean),\n",
        "            sd = sd(mean))"
      ],
      "id": "d7eab882-631b-4e30-afa0-56bfe5ba1a49"
    },
    {
      "cell_type": "markdown",
      "metadata": {},
      "source": [
        "Adherence by lapse"
      ],
      "id": "6b8862f6-c0d9-403e-a6a8-e6ab57df898b"
    },
    {
      "cell_type": "code",
      "execution_count": null,
      "metadata": {},
      "outputs": [
        {
          "output_type": "stream",
          "name": "stdout",
          "text": [
            "# A tibble: 2 × 5\n",
            "  term          estimate std.error statistic   p.value\n",
            "  <chr>            <dbl>     <dbl>     <dbl>     <dbl>\n",
            "1 (Intercept)     0.685     0.0159     43.1  1.33e-138\n",
            "2 lapseno lapse   0.0496    0.0206      2.40 1.69e-  2"
          ]
        }
      ],
      "source": [
        "lapses_per_subid <- count_study_dates |> \n",
        "  group_by(subid) |> \n",
        "  summarize(n_total = sum(n), prompt_total = sum(n_prompts)) |> \n",
        "  mutate(mean = n_total/prompt_total)  |>\n",
        "  left_join(lapses |>\n",
        "              group_by(subid) |> \n",
        "              summarise(n_lapse = n()), by = \"subid\") |>\n",
        "  mutate(n_lapse = if_else(is.na(n_lapse), 0, n_lapse),\n",
        "         lapse = if_else(n_lapse > 0, \"lapse\", \"no lapse\"),\n",
        "         lapse = factor(lapse))\n",
        "\n",
        "lm_daily_lapse <- lm(mean ~ lapse, data = lapses_per_subid)\n",
        "\n",
        "broom::tidy(lm_daily_lapse)"
      ],
      "id": "d7ed58e6-a3a9-49f7-b1d7-f4b54482daac"
    },
    {
      "cell_type": "code",
      "execution_count": null,
      "metadata": {},
      "outputs": [
        {
          "output_type": "stream",
          "name": "stdout",
          "text": [
            "# A tibble: 2 × 4\n",
            "  lapse        n mean_adherence    sd\n",
            "  <fct>    <int>          <dbl> <dbl>\n",
            "1 lapse      137          0.685 0.188\n",
            "2 no lapse   199          0.735 0.184"
          ]
        }
      ],
      "source": [
        "lapses_per_subid |> \n",
        "  group_by(lapse) |> \n",
        "  summarise(n = n(),\n",
        "            mean_adherence = mean(mean),\n",
        "            sd = sd(mean))"
      ],
      "id": "c6f890c8-726d-405e-a61f-7a3c0269bd83"
    },
    {
      "cell_type": "markdown",
      "metadata": {},
      "source": [
        "### Daily Survey Adherence over time\n",
        "\n",
        "Quite a few people have over 365 days of EMA. *Lose these in adherence\n",
        "over 12 month plot*."
      ],
      "id": "b1c327ea-ebf3-4bd8-ad60-918ae6bb24b7"
    },
    {
      "cell_type": "code",
      "execution_count": null,
      "metadata": {},
      "outputs": [
        {
          "output_type": "stream",
          "name": "stdout",
          "text": [
            "# A tibble: 74 × 5\n",
            "   subid study_start study_end  study_days n       \n",
            "   <dbl> <date>      <date>     <drtn>     <drtn>  \n",
            " 1  1428 2023-10-19  2025-01-13 452 days   452 days\n",
            " 2  1152 2022-09-06  2023-10-27 416 days   416 days\n",
            " 3  1200 2022-11-01  2023-12-22 416 days   416 days\n",
            " 4  1146 2022-08-16  2023-10-03 413 days   413 days\n",
            " 5  1411 2023-09-19  2024-11-02 410 days   410 days\n",
            " 6  1286 2023-03-01  2024-04-12 408 days   408 days\n",
            " 7  1211 2022-11-18  2023-12-28 405 days   405 days\n",
            " 8  1080 2022-05-10  2023-06-18 404 days   404 days\n",
            " 9  1197 2022-10-31  2023-12-08 403 days   403 days\n",
            "10  1269 2023-02-06  2024-03-07 395 days   395 days\n",
            "11  1168 2022-10-03  2023-10-31 393 days   393 days\n",
            "12  1352 2023-06-07  2024-07-02 391 days   391 days\n",
            "13  1035 2022-03-07  2023-04-01 390 days   390 days\n",
            "14  1070 2022-04-28  2023-05-22 389 days   389 days\n",
            "15  1071 2022-04-29  2023-05-23 389 days   389 days\n",
            "16  1036 2022-03-11  2023-04-03 388 days   388 days\n",
            "17  1044 2022-03-25  2023-04-17 388 days   388 days\n",
            "18  1302 2023-03-16  2024-04-07 388 days   388 days\n",
            "19  1029 2022-02-21  2023-03-15 387 days   387 days\n",
            "20  1030 2022-02-23  2023-03-16 386 days   386 days\n",
            "21  1046 2022-03-28  2023-04-18 386 days   386 days\n",
            "22  1122 2022-07-11  2023-08-01 386 days   386 days\n",
            "23  1249 2023-01-10  2024-01-31 386 days   386 days\n",
            "24  1371 2023-07-11  2024-07-31 386 days   386 days\n",
            "25  1380 2023-07-26  2024-08-15 386 days   386 days\n",
            "26  1384 2023-07-27  2024-08-16 386 days   386 days\n",
            "27  1012 2021-09-15  2022-10-05 385 days   385 days\n",
            "28  1112 2022-06-27  2023-07-17 385 days   385 days\n",
            "29  1148 2022-08-19  2023-09-08 385 days   385 days\n",
            "30  1033 2022-03-03  2023-03-22 384 days   384 days\n",
            "31  1048 2022-03-29  2023-04-17 384 days   384 days\n",
            "32  1416 2023-09-28  2024-10-15 383 days   383 days\n",
            "33  1038 2022-03-14  2023-03-31 382 days   382 days\n",
            "34  1051 2022-03-31  2023-04-17 382 days   382 days\n",
            "35  1099 2022-06-13  2023-06-30 382 days   382 days\n",
            "36  1219 2022-12-02  2023-12-19 382 days   382 days\n",
            "37  1222 2022-12-02  2023-12-19 382 days   382 days\n",
            "38  1113 2022-06-27  2023-07-13 381 days   381 days\n",
            "39  1039 2022-03-14  2023-03-29 380 days   380 days\n",
            "40  1198 2022-10-31  2023-11-15 380 days   380 days\n",
            "41  1356 2023-06-14  2024-06-28 380 days   380 days\n",
            "42  1066 2022-04-27  2023-05-11 379 days   379 days\n",
            "43  1201 2022-11-01  2023-11-15 379 days   379 days\n",
            "44  1216 2022-12-01  2023-12-15 379 days   379 days\n",
            "45  1218 2022-12-01  2023-12-15 379 days   379 days\n",
            "46  1220 2022-12-01  2023-12-15 379 days   379 days\n",
            "47  1306 2023-03-21  2024-04-03 379 days   379 days\n",
            "48  1050 2022-03-31  2023-04-13 378 days   378 days\n",
            "49  1278 2023-02-16  2024-02-29 378 days   378 days\n",
            "50  1061 2022-04-22  2023-05-02 375 days   375 days\n",
            "51  1395 2023-08-10  2024-08-19 375 days   375 days\n",
            "52  1041 2022-03-17  2023-03-25 373 days   373 days\n",
            "53  1448 2023-12-06  2024-12-13 373 days   373 days\n",
            "54  1037 2022-03-14  2023-03-20 371 days   371 days\n",
            "55  1297 2023-03-09  2024-03-14 371 days   371 days\n",
            "56  1399 2023-08-22  2024-08-27 371 days   371 days\n",
            "57  1009 2021-05-04  2022-05-09 370 days   370 days\n",
            "58  1006 2021-04-22  2022-04-25 368 days   368 days\n",
            "59  1023 2022-02-09  2023-02-12 368 days   368 days\n",
            "60  1079 2022-05-09  2023-05-12 368 days   368 days\n",
            "61  1153 2022-09-06  2023-09-09 368 days   368 days\n",
            "62  1182 2022-10-20  2023-10-23 368 days   368 days\n",
            "63  1188 2022-10-23  2023-10-26 368 days   368 days\n",
            "64  1312 2023-03-27  2024-03-29 368 days   368 days\n",
            "65  1388 2023-08-03  2024-08-05 368 days   368 days\n",
            "66  1401 2023-08-24  2024-08-26 368 days   368 days\n",
            "67  1435 2023-11-07  2024-11-09 368 days   368 days\n",
            "68  1031 2022-02-28  2023-03-02 367 days   367 days\n",
            "69  1081 2022-05-10  2023-05-12 367 days   367 days\n",
            "70  1367 2023-07-05  2024-07-06 367 days   367 days\n",
            "71  1068 2022-04-27  2023-04-28 366 days   366 days\n",
            "72  1160 2022-09-16  2023-09-17 366 days   366 days\n",
            "73  1324 2023-04-18  2024-04-18 366 days   366 days\n",
            "74  1337 2023-06-01  2024-06-01 366 days   366 days"
          ]
        }
      ],
      "source": [
        "dates |> \n",
        "  mutate(n = study_end - study_start) |> \n",
        "  arrange(desc(n)) |> \n",
        "  filter(n > 365) |> \n",
        "  print(n = Inf)"
      ],
      "id": "4863f260-7339-427c-8fac-bd8a15643ef4"
    },
    {
      "cell_type": "markdown",
      "metadata": {},
      "source": [
        "Slice into 30 day bins"
      ],
      "id": "2681ad43-f22e-448e-adc1-bd07c0589184"
    },
    {
      "cell_type": "code",
      "execution_count": null,
      "metadata": {},
      "outputs": [],
      "source": [
        "#| code-fold: true\n",
        "\n",
        "study_months <- count_study_dates |> \n",
        "  group_by(subid) |> \n",
        "  slice(1:30) |> \n",
        "  mutate(month = 1) |> \n",
        "  bind_rows(count_study_dates |> \n",
        "    group_by(subid) |> \n",
        "    slice(31:60) |> \n",
        "    mutate(month = 2)) |> \n",
        "  bind_rows(count_study_dates |> \n",
        "    group_by(subid) |> \n",
        "    slice(61:90) |> \n",
        "    mutate(month = 3)) |> \n",
        "  bind_rows(count_study_dates |> \n",
        "    group_by(subid) |> \n",
        "    slice(91:120) |> \n",
        "    mutate(month = 4)) |> \n",
        "  bind_rows(count_study_dates |> \n",
        "    group_by(subid) |> \n",
        "    slice(121:150) |> \n",
        "    mutate(month = 5)) |> \n",
        "  bind_rows(count_study_dates |> \n",
        "    group_by(subid) |> \n",
        "    slice(151:180) |> \n",
        "    mutate(month = 6)) |> \n",
        "  bind_rows(count_study_dates |> \n",
        "    group_by(subid) |> \n",
        "    slice(181:210) |> \n",
        "    mutate(month = 7)) |> \n",
        "  bind_rows(count_study_dates |> \n",
        "    group_by(subid) |> \n",
        "    slice(211:240) |> \n",
        "    mutate(month = 8)) |> \n",
        "  bind_rows(count_study_dates |> \n",
        "    group_by(subid) |> \n",
        "    slice(241:270) |> \n",
        "    mutate(month = 9)) |> \n",
        "  bind_rows(count_study_dates |> \n",
        "    group_by(subid) |> \n",
        "    slice(271:300) |> \n",
        "    mutate(month = 10)) |> \n",
        "  bind_rows(count_study_dates |> \n",
        "    group_by(subid) |> \n",
        "    slice(301:330) |> \n",
        "    mutate(month = 11)) |> \n",
        "  bind_rows(count_study_dates |> \n",
        "    group_by(subid) |> \n",
        "    slice(331:360) |> \n",
        "    mutate(month = 12)) |> \n",
        "  ungroup()"
      ],
      "id": "68695dc9-079a-45f2-8bdf-b0312a3755ea"
    },
    {
      "cell_type": "markdown",
      "metadata": {},
      "source": [
        "Get individual adherence scores"
      ],
      "id": "51e9294f-ba87-4b32-8ef6-2552f6a593b3"
    },
    {
      "cell_type": "code",
      "execution_count": null,
      "metadata": {},
      "outputs": [],
      "source": [
        "ema_month_adherence <- study_months |> \n",
        "  group_by(subid, month) |> \n",
        "  summarize(sum_n = sum(n), sum_prompts = sum(n_prompts), .groups = \"rowwise\") |> \n",
        "  mutate(adherence = sum_n/sum_prompts) |> \n",
        "  ungroup()"
      ],
      "id": "9d841ccb-cf0c-4aca-8f0d-20868e48eb63"
    },
    {
      "cell_type": "markdown",
      "metadata": {},
      "source": [
        "Summarize total adherence"
      ],
      "id": "8f38f14d-4f77-4582-8c64-33a014b96871"
    },
    {
      "cell_type": "code",
      "execution_count": null,
      "metadata": {},
      "outputs": [
        {
          "output_type": "stream",
          "name": "stdout",
          "text": [
            "# A tibble: 12 × 2\n",
            "   month mean_adherence\n",
            "   <dbl>          <dbl>\n",
            " 1     1          0.824\n",
            " 2     2          0.789\n",
            " 3     3          0.756\n",
            " 4     4          0.718\n",
            " 5     5          0.716\n",
            " 6     6          0.724\n",
            " 7     7          0.723\n",
            " 8     8          0.709\n",
            " 9     9          0.708\n",
            "10    10          0.708\n",
            "11    11          0.694\n",
            "12    12          0.701"
          ]
        }
      ],
      "source": [
        "ema_month_adherence |> \n",
        "  group_by(month) |> \n",
        "  summarize(mean_adherence = mean(adherence)) "
      ],
      "id": "a779d357-be1b-4bea-b58b-287775896782"
    },
    {
      "cell_type": "markdown",
      "metadata": {},
      "source": [
        "Plot adherence by month"
      ],
      "id": "739fd2a8-4961-43fb-aebe-4d871fb046d7"
    },
    {
      "cell_type": "code",
      "execution_count": null,
      "metadata": {},
      "outputs": [
        {
          "output_type": "display_data",
          "metadata": {},
          "data": {
            "image/png": "[encoded data removed]"
          }
        }
      ],
      "source": [
        "#| label: fig-2\n",
        "#| fig-cap: \"Daily Update Adherence by Month on Study\"\n",
        "\n",
        "ema_month_adherence |> \n",
        "  group_by(month) |> \n",
        "  summarize(mean_adherence = mean(adherence)) |> \n",
        "  ggplot(aes(x = month, y = mean_adherence)) +\n",
        "  geom_point() +\n",
        "  geom_line() +\n",
        "  theme_classic() +\n",
        "  scale_x_continuous(name = \"Month\", \n",
        "                     breaks = seq(1, 12, 1)) +\n",
        "  scale_y_continuous(name = \"Adherence\", \n",
        "                     breaks = seq(0, 1, .1), \n",
        "                     limits = c(0, 1)) +\n",
        "  labs(title = \"Daily update adherence over time (N = 336) \") +\n",
        "  theme(legend.title = element_blank()) +\n",
        "  geom_hline(aes(yintercept = mean(mean_adherence)), linetype = \"dashed\", linewidth = .3)"
      ],
      "id": "cell-fig-2"
    },
    {
      "cell_type": "markdown",
      "metadata": {},
      "source": [
        "### Monthly Survey Overall Adherence\n",
        "\n",
        "Count how many months on study"
      ],
      "id": "13cdf55a-b4d3-4504-bfc0-3adea4886277"
    },
    {
      "cell_type": "code",
      "execution_count": null,
      "metadata": {},
      "outputs": [],
      "source": [
        "dates <- dates |> \n",
        "  mutate(study_months = floor(interval(study_start, study_end) / months(1)))"
      ],
      "id": "79d2e1ae-236d-4195-9b39-06528efe779a"
    },
    {
      "cell_type": "markdown",
      "metadata": {},
      "source": [
        "Count how many completed monthly surveys"
      ],
      "id": "acac93d8-131c-4e5b-bc57-a639add144fb"
    },
    {
      "cell_type": "code",
      "execution_count": null,
      "metadata": {},
      "outputs": [],
      "source": [
        "monthly_count <-  dates |> \n",
        "  left_join(monthly |> \n",
        "  group_by(subid) |> \n",
        "  summarize(n = n()), by = \"subid\") |> \n",
        "  mutate(n_prompts = study_months,\n",
        "         n = if_else(n > n_prompts, n_prompts, n))"
      ],
      "id": "9071fa26-330b-4715-8113-87b32c1c9e05"
    },
    {
      "cell_type": "markdown",
      "metadata": {},
      "source": [
        "calculate mean adherence"
      ],
      "id": "dc9387df-7e90-4ee4-a406-83647a5e4af0"
    },
    {
      "cell_type": "code",
      "execution_count": null,
      "metadata": {},
      "outputs": [],
      "source": [
        "mean_monthly <- monthly_count |> \n",
        "  group_by(subid) |> \n",
        "  mutate(mean = n/n_prompts) |> \n",
        "  ungroup() |> \n",
        "  summarize(mean = mean(mean))"
      ],
      "id": "5ec962a6-4745-43c9-b13e-181f7527a5e8"
    },
    {
      "cell_type": "markdown",
      "metadata": {},
      "source": [
        "**On average participants’ (N = 336) overall adherence for the monthly\n",
        "survey was 96%.**"
      ],
      "id": "22df15b8-efa4-49ce-887f-6ed30d0b15af"
    },
    {
      "cell_type": "code",
      "execution_count": null,
      "metadata": {},
      "outputs": [
        {
          "output_type": "stream",
          "name": "stdout",
          "text": [
            "# A tibble: 2 × 2\n",
            "  adher_90     n\n",
            "     <dbl> <int>\n",
            "1        0    41\n",
            "2        1   295"
          ]
        }
      ],
      "source": [
        "monthly_count |> \n",
        "  group_by(subid) |> \n",
        "  mutate(mean = n/n_prompts,\n",
        "         adher_90 = if_else(mean >= .9, 1, 0)) |> \n",
        "  ungroup() |> \n",
        "  count(adher_90)"
      ],
      "id": "16a98e2b-a5ac-4b9a-9ec2-647b2121e161"
    },
    {
      "cell_type": "markdown",
      "metadata": {},
      "source": [
        "**88% of participants completed at least 90% of their monthly surveys.**"
      ],
      "id": "4ad1cac2-9fc6-48fc-bdf0-2fb9ea96cd3f"
    },
    {
      "cell_type": "code",
      "execution_count": null,
      "metadata": {},
      "outputs": [
        {
          "output_type": "stream",
          "name": "stdout",
          "text": [
            "# A tibble: 2 × 2\n",
            "  adher_80     n\n",
            "     <dbl> <int>\n",
            "1        0    22\n",
            "2        1   314"
          ]
        },
        {
          "output_type": "stream",
          "name": "stdout",
          "text": [
            "[1] 0.9404762"
          ]
        }
      ],
      "source": [
        "monthly_count |> \n",
        "  group_by(subid) |> \n",
        "  mutate(mean = n/n_prompts,\n",
        "         adher_80 = if_else(mean >= .8, 1, 0)) |> \n",
        "  ungroup() |> \n",
        "  count(adher_80)"
      ],
      "id": "9b732a43-2af3-4004-9690-41d4127ff2dc"
    },
    {
      "cell_type": "markdown",
      "metadata": {},
      "source": [
        "Hist of overall adherence by subid"
      ],
      "id": "4eb9c7f0-6396-4528-8fa3-2a58fd210875"
    },
    {
      "cell_type": "code",
      "execution_count": null,
      "metadata": {},
      "outputs": [
        {
          "output_type": "display_data",
          "metadata": {},
          "data": {
            "image/png": "[encoded data removed]"
          }
        }
      ],
      "source": [
        "#| code-fold: true\n",
        "\n",
        "monthly_count |> \n",
        "  group_by(subid) |> \n",
        "  mutate(adherence = n/n_prompts) |> \n",
        "  ggplot(aes(x = adherence)) +\n",
        "  geom_histogram(color = \"black\", fill = \"light grey\", binwidth = .1, center = .55) +\n",
        "  scale_x_continuous(breaks = c(0, 0.10, 0.20, 0.30, 0.40, 0.50, 0.60, 0.70, 0.80, 0.90, 1.0)) +\n",
        "  labs(y = \"Frequency\", x = \"Proportion of monthly survey's completed\",\n",
        "       subtitle = \"Monthly Survey Adherence (N = 336)\") +\n",
        "  geom_vline(aes(xintercept = mean_monthly$mean), linewidth = .3) +\n",
        "  theme_classic()"
      ],
      "id": "d1debef6-22cc-430c-9426-1b36a5c80e9d"
    }
  ],
  "nbformat": 4,
  "nbformat_minor": 5,
  "metadata": {
    "kernelspec": {
      "display_name": "Python 3",
      "language": "python",
      "name": "python3"
    }
  }
}