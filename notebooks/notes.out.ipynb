{
 "cells": [
  {
   "cell_type": "markdown",
   "metadata": {},
   "source": [
    "# Notes\n",
    "\n",
    "-   336 particpants with EMA data\n",
    "\n",
    "-   Burden data from 247 participants.\n",
    "\n",
    "-   All participants provided EMA data for at least 4 months.\n",
    "\n",
    "-   All participants provided quant data\n",
    "\n",
    "-   222 provided qual data (205 provided comments that were coded)\n",
    "\n",
    "-   We coded a total of 713 comments from 205 participants. We filtered out comments that equate to NA (e.g., None, No, Na, No comment).\n",
    "\n",
    "-   participants completed survey on average after being on study for 4 months (range = 62-142 days)\n",
    "\n",
    "-   quant and qual analyses will specifically look at several demographic characteristics to see if these characteristics have an effect on perceived and objective measures of acceptability.\n",
    "\n",
    "Primary variables for analyses:\n",
    "\n",
    "-   race (Non-Hispanic White, Black, Hispanic, Other)\n",
    "-   gender (male, female)\n",
    "-   income (less than \\$25000, more than \\$25000)\n",
    "-   location (still need to work on adding this data)\n",
    "-   number of lapses on study up until the start time of the burden survey"
   ],
   "id": "2b4d35fb-750a-40b6-bd63-886e71cb74e2"
  }
 ],
 "nbformat": 4,
 "nbformat_minor": 5,
 "metadata": {}
}
