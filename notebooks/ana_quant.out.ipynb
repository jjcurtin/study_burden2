{
 "cells": [
  {
   "cell_type": "markdown",
   "metadata": {},
   "source": [
    "# Quantitative Analyses\n",
    "\n",
    "Kendra Wyant  \n",
    "September 3, 2024\n",
    "\n",
    "Purpose: This file is the primary analysis script for the self-report acceptability data (`burden_quant.csv`).\n",
    "\n",
    "## Set up"
   ],
   "id": "0d4d5d19-3b87-46cf-bf7e-0719db4de035"
  },
  {
   "cell_type": "code",
   "execution_count": null,
   "metadata": {},
   "outputs": [
    {
     "output_type": "stream",
     "name": "stderr",
     "text": [
      "── Attaching core tidyverse packages ──────────────────────── tidyverse 2.0.0 ──\n",
      "✔ dplyr     1.1.4     ✔ readr     2.1.5\n",
      "✔ forcats   1.0.0     ✔ stringr   1.5.1\n",
      "✔ ggplot2   3.5.1     ✔ tibble    3.2.1\n",
      "✔ lubridate 1.9.3     ✔ tidyr     1.3.1\n",
      "✔ purrr     1.0.2     \n",
      "── Conflicts ────────────────────────────────────────── tidyverse_conflicts() ──\n",
      "✖ dplyr::filter() masks stats::filter()\n",
      "✖ dplyr::lag()    masks stats::lag()\n",
      "ℹ Use the conflicted package (<http://conflicted.r-lib.org/>) to force all conflicts to become errors"
     ]
    },
    {
     "output_type": "stream",
     "name": "stderr",
     "text": [
      "\n",
      "Attaching package: 'janitor'\n",
      "\n",
      "The following objects are masked from 'package:stats':\n",
      "\n",
      "    chisq.test, fisher.test"
     ]
    },
    {
     "output_type": "stream",
     "name": "stderr",
     "text": [
      "ℹ SHA-1 hash of file is \"a58e57da996d1b70bb9a5b58241325d6fd78890f\""
     ]
    }
   ],
   "source": [
    "\n",
    "options(conflicts.policy = \"depends.ok\")\n",
    "library(tidyverse) \n"
   ],
   "id": "b42ef212-dbcf-4b18-b1d2-d3f436bf0f4f"
  },
  {
   "cell_type": "markdown",
   "metadata": {},
   "source": [
    "### Data"
   ],
   "id": "84270f52-fc64-4782-8070-6a436902ffd3"
  },
  {
   "cell_type": "code",
   "execution_count": null,
   "metadata": {},
   "outputs": [],
   "source": [
    "dem <- read_csv(here::here(path_burden, \"demographics.csv\"),\n",
    "                show_col_types = FALSE) \n"
   ],
   "id": "5edd632d-fecb-45b3-8322-89c70d200ef2"
  },
  {
   "cell_type": "code",
   "execution_count": null,
   "metadata": {},
   "outputs": [
    {
     "output_type": "stream",
     "name": "stdout",
     "text": [
      "Rows: 247\n",
      "Columns: 12\n",
      "$ subid                    <dbl> 1006, 1009, 1010, 1012, 1014, 1017, 1020, 102…\n",
      "$ study_start              <dttm> 2021-04-24 20:41:22, 2021-05-05 02:23:12, 20…\n",
      "$ user_survey_guid         <chr> \"7720de45-c927-48fe-96c0-a1ec579d4462\", \"6561…\n",
      "$ start_date               <dttm> 2021-06-26 04:27:28, 2021-07-15 01:14:24, 20…\n",
      "$ complete_date            <dttm> 2021-06-26 10:02:12, 2021-07-15 01:39:22, 20…\n",
      "$ daily_update_interfere   <fct> Strongly disagree, Strongly disagree, Mildly …\n",
      "$ daily_update_dislike     <fct> Strongly disagree, Strongly disagree, Mildly …\n",
      "$ monthly_update_interfere <fct> Strongly disagree, Mildly disagree, Strongly …\n",
      "$ monthly_update_dislike   <fct> Strongly disagree, Mildly disagree, Mildly ag…\n",
      "$ gps_dislike              <fct> Strongly disagree, Mildly disagree, Mildly di…\n",
      "$ sms_phone_logs_dislike   <fct> Strongly disagree, Mildly disagree, Mildly di…\n",
      "$ sms_content_dislike      <fct> Strongly disagree, Mildly disagree, Mildly di…"
     ]
    }
   ],
   "source": [
    "burden <- read_csv(here::here(path_burden, \"burden_quant.csv\"),\n",
    "                   show_col_types = FALSE) |> \n",
    "  mutate(daily_update_interfere = factor(daily_update_interfere, \n",
    "                                         levels = c(\"Strongly agree\", \"Mildly agree\", \n",
    "                                          \"Agree and disagree equally\", \"Mildly disagree\", \n",
    "                                          \"Strongly disagree\")),\n",
    "         daily_update_interfere = factor(daily_update_interfere, \n",
    "                                         levels = c(\"Strongly agree\", \"Mildly agree\", \n",
    "                                          \"Agree and disagree equally\", \"Mildly disagree\", \n",
    "                                          \"Strongly disagree\")),\n",
    "         monthly_update_interfere = factor(monthly_update_interfere, \n",
    "                                         levels = c(\"Strongly agree\", \"Mildly agree\", \n",
    "                                          \"Agree and disagree equally\", \"Mildly disagree\", \n",
    "                                          \"Strongly disagree\")),\n",
    "         daily_update_dislike = factor(daily_update_dislike, \n",
    "                                         levels = c(\"Strongly agree\", \"Mildly agree\", \n",
    "                                          \"Agree and disagree equally\", \"Mildly disagree\", \n",
    "                                          \"Strongly disagree\")),\n",
    "         monthly_update_dislike = factor(monthly_update_dislike, \n",
    "                                         levels = c(\"Strongly agree\", \"Mildly agree\", \n",
    "                                          \"Agree and disagree equally\", \"Mildly disagree\", \n",
    "                                          \"Strongly disagree\")),\n",
    "         gps_dislike = factor(gps_dislike, \n",
    "                                         levels = c(\"Strongly agree\", \"Mildly agree\", \n",
    "                                          \"Agree and disagree equally\", \"Mildly disagree\", \n",
    "                                          \"Strongly disagree\")),\n",
    "         sms_phone_logs_dislike = factor(sms_phone_logs_dislike, \n",
    "                                         levels = c(\"Strongly agree\", \"Mildly agree\", \n",
    "                                          \"Agree and disagree equally\", \"Mildly disagree\", \n",
    "                                          \"Strongly disagree\")),\n",
    "         sms_content_dislike = factor(sms_content_dislike, \n",
    "                                         levels = c(\"Strongly agree\", \"Mildly agree\", \n",
    "                                          \"Agree and disagree equally\", \"Mildly disagree\", \n",
    "                                          \"Strongly disagree\"))) |> \n",
    "  glimpse()\n"
   ],
   "id": "42f2902b-d0ae-4f9f-8614-0c0fb19a21a8"
  },
  {
   "cell_type": "markdown",
   "metadata": {},
   "source": [
    "### Interference"
   ],
   "id": "a4dfea09-763d-4822-b1ef-af8b6c3e15b1"
  },
  {
   "cell_type": "code",
   "execution_count": null,
   "metadata": {},
   "outputs": [],
   "source": [
    "interference_plot_data <- burden |> \n",
    "  select(contains(\"interfere\")) |>   \n",
    "  pivot_longer(everything(), names_to = \"measure\", values_drop_na = TRUE) |> \n",
    "  mutate(measure = factor(measure, \n",
    "                          levels = c(\"daily_update_interfere\", \"monthly_update_interfere\"),\n",
    "                          labels = c(\"Daily update\", \"Monthly update\"))) |> \n",
    "  mutate(value = factor(value, levels = c(\"Strongly agree\", \"Mildly agree\", \n",
    "                                          \"Agree and disagree equally\", \"Mildly disagree\", \n",
    "                                          \"Strongly disagree\"))) \n",
    "\n",
    "\n",
    "plot_int <- interference_plot_data |> \n",
    "  ggplot(aes(x = value, y = after_stat(prop), group = measure)) +\n",
    "  geom_bar(color = \"black\", fill = \"light grey\") +\n",
    "  facet_grid(~ measure) +\n",
    "  theme_classic() +\n",
    "  labs(y = \"Proportion\",\n",
    "       x = NULL,\n",
    "       title = \"Completing the update interfered with my daily activities\") +\n",
    "  theme(legend.position = \"none\",\n",
    "        text = element_text(size = 12),\n",
    "        axis.text.x = element_text(angle = 45, hjust = 1)) +\n",
    "  ylim(0, .7) +\n",
    "  geom_vline(aes(xintercept = \"Agree and disagree equally\"), linetype = \"dashed\", linewidth = .4, color = \"#787575\") +\n",
    "  geom_vline(aes(xintercept = means), interference_plot_data |> \n",
    "  group_by(measure) |> \n",
    "  summarise(means = mean(as.numeric(value), na.rm = TRUE)), linewidth = .705, color = \"black\") \n"
   ],
   "id": "05f03b02-f4bf-4855-84a8-b01dacb36874"
  },
  {
   "cell_type": "code",
   "execution_count": null,
   "metadata": {},
   "outputs": [
    {
     "output_type": "display_data",
     "metadata": {},
     "data": {
      "image/png": "[encoded data removed]"
     }
    }
   ],
   "source": [
    "\n",
    "plot_int\n"
   ],
   "id": "cell-fig-1"
  },
  {
   "cell_type": "markdown",
   "metadata": {},
   "source": [
    "#### Correlation and Summary Statistics\n",
    "\n",
    "Run one sample t-tests to compare each raw data stream mean (for self-reported acceptability about interference) to a neutral score of 0."
   ],
   "id": "17475181-6cfe-4ea5-93b6-46cdd589a205"
  },
  {
   "cell_type": "code",
   "execution_count": null,
   "metadata": {},
   "outputs": [],
   "source": [
    "burden_ana <- burden |> \n",
    "  mutate(daily_update_interfere = case_match(daily_update_interfere, \n",
    "                                             \"Strongly agree\" ~ -2, \n",
    "                                             \"Mildly agree\" ~ -1, \n",
    "                                             \"Agree and disagree equally\" ~ 0, \n",
    "                                             \"Mildly disagree\" ~ 1, \n",
    "                                             \"Strongly disagree\" ~ 2),\n",
    "         monthly_update_interfere = case_match(monthly_update_interfere, \n",
    "                                             \"Strongly agree\" ~ -2, \n",
    "                                             \"Mildly agree\" ~ -1, \n",
    "                                             \"Agree and disagree equally\" ~ 0, \n",
    "                                             \"Mildly disagree\" ~ 1, \n",
    "                                             \"Strongly disagree\" ~ 2),\n",
    "         daily_update_dislike = case_match(daily_update_dislike, \n",
    "                                             \"Strongly agree\" ~ -2, \n",
    "                                             \"Mildly agree\" ~ -1, \n",
    "                                             \"Agree and disagree equally\" ~ 0, \n",
    "                                             \"Mildly disagree\" ~ 1, \n",
    "                                             \"Strongly disagree\" ~ 2),\n",
    "         monthly_update_dislike = case_match(monthly_update_dislike, \n",
    "                                             \"Strongly agree\" ~ -2, \n",
    "                                             \"Mildly agree\" ~ -1, \n",
    "                                             \"Agree and disagree equally\" ~ 0, \n",
    "                                             \"Mildly disagree\" ~ 1, \n",
    "                                             \"Strongly disagree\" ~ 2),\n",
    "         gps_dislike = case_match(gps_dislike, \n",
    "                                             \"Strongly agree\" ~ -2, \n",
    "                                             \"Mildly agree\" ~ -1, \n",
    "                                             \"Agree and disagree equally\" ~ 0, \n",
    "                                             \"Mildly disagree\" ~ 1, \n",
    "                                             \"Strongly disagree\" ~ 2),\n",
    "         sms_phone_logs_dislike = case_match(sms_phone_logs_dislike, \n",
    "                                             \"Strongly agree\" ~ -2, \n",
    "                                             \"Mildly agree\" ~ -1, \n",
    "                                             \"Agree and disagree equally\" ~ 0, \n",
    "                                             \"Mildly disagree\" ~ 1, \n",
    "                                             \"Strongly disagree\" ~ 2),\n",
    "         sms_content_dislike = case_match(sms_content_dislike, \n",
    "                                             \"Strongly agree\" ~ -2, \n",
    "                                             \"Mildly agree\" ~ -1, \n",
    "                                             \"Agree and disagree equally\" ~ 0, \n",
    "                                             \"Mildly disagree\" ~ 1, \n",
    "                                             \"Strongly disagree\" ~ 2))\n"
   ],
   "id": "a4b718a2-abc2-486e-8e7f-a2a3b198a621"
  },
  {
   "cell_type": "code",
   "execution_count": null,
   "metadata": {},
   "outputs": [
    {
     "output_type": "stream",
     "name": "stdout",
     "text": [
      "# A tibble: 1 × 7\n",
      "  term        estimate std.error statistic  p.value    sd     d\n",
      "  <chr>          <dbl>     <dbl>     <dbl>    <dbl> <dbl> <dbl>\n",
      "1 (Intercept)     1.47    0.0590      24.8 5.26e-69 0.927  1.58"
     ]
    },
    {
     "output_type": "stream",
     "name": "stdout",
     "text": [
      "# A tibble: 1 × 7\n",
      "  term        estimate std.error statistic  p.value    sd     d\n",
      "  <chr>          <dbl>     <dbl>     <dbl>    <dbl> <dbl> <dbl>\n",
      "1 (Intercept)     1.29    0.0668      19.3 2.74e-51  1.05  1.23"
     ]
    }
   ],
   "source": [
    "(int_daily <- broom::tidy(lm(daily_update_interfere ~ 1, data = burden_ana)) |> \n",
    "  mutate(sd = sd(burden_ana$daily_update_interfere, na.rm = TRUE),\n",
    "         d = mean(burden_ana$daily_update_interfere, na.rm = TRUE)/sd))\n"
   ],
   "id": "c34b8d66-a9f6-4d47-bfd9-2e22a246babf"
  },
  {
   "cell_type": "markdown",
   "metadata": {},
   "source": [
    "**Possibly add demographics into model as predictor**\n",
    "\n",
    "### Dislike"
   ],
   "id": "4e8dc2f3-7b50-45e1-b16d-6a0fe04db73f"
  },
  {
   "cell_type": "code",
   "execution_count": null,
   "metadata": {},
   "outputs": [],
   "source": [
    "dislike_plot_data <- burden |> \n",
    "  select(contains(\"dislike\")) |>   \n",
    "  pivot_longer(everything(), names_to = \"measure\", values_drop_na = TRUE) |> \n",
    "  mutate(measure = factor(measure, \n",
    "                          levels = c(\"daily_update_dislike\", \"monthly_update_dislike\",\n",
    "                                     \"gps_dislike\", \"sms_phone_logs_dislike\", \n",
    "                                     \"sms_content_dislike\"),\n",
    "                          labels = c(\"Daily update\", \"Monthly update\", \"Geolocation\",\n",
    "                                     \"SMS and phone logs\", \"SMS content\"))) |> \n",
    "  mutate(value = factor(value, levels = c(\"Strongly agree\", \"Mildly agree\", \n",
    "                                          \"Agree and disagree equally\", \"Mildly disagree\", \n",
    "                                          \"Strongly disagree\"))) \n",
    "\n",
    "\n",
    "plot_dis <- dislike_plot_data |> \n",
    "  ggplot(aes(x = value, y = after_stat(prop), group = measure)) +\n",
    "  geom_bar(color = \"black\", fill = \"light grey\") +\n",
    "  facet_wrap(~ measure, ncol = 3) +\n",
    "  theme_classic() +\n",
    "  labs(y = \"Proportion\",\n",
    "       x = NULL,\n",
    "       title = \"I disliked [sensing method]\") +\n",
    "  theme(legend.position = \"none\",\n",
    "        text = element_text(size = 12),\n",
    "        axis.text.x = element_text(angle = 45, hjust = 1)) +\n",
    "  ylim(0, .7) +\n",
    "  geom_vline(aes(xintercept = \"Agree and disagree equally\"), linetype = \"dashed\", linewidth = .4, color = \"#787575\") +\n",
    "  geom_vline(aes(xintercept = means), dislike_plot_data |> \n",
    "  group_by(measure) |> \n",
    "  summarise(means = mean(as.numeric(value), na.rm = TRUE)), linewidth = .705, color = \"black\") \n"
   ],
   "id": "96d0bacd-f506-46b0-b357-e12ff342ff1c"
  },
  {
   "cell_type": "code",
   "execution_count": null,
   "metadata": {},
   "outputs": [
    {
     "output_type": "display_data",
     "metadata": {},
     "data": {
      "image/png": "[encoded data removed]"
     }
    }
   ],
   "source": [
    "\n",
    "plot_dis\n"
   ],
   "id": "cell-fig-2"
  },
  {
   "cell_type": "markdown",
   "metadata": {},
   "source": [
    "Overall correlations"
   ],
   "id": "c693a1e6-16e6-4f16-bf39-87a4a0aef32f"
  },
  {
   "cell_type": "code",
   "execution_count": null,
   "metadata": {},
   "outputs": [
    {
     "output_type": "stream",
     "name": "stdout",
     "text": [
      "                         daily_update_interfere monthly_update_interfere\n",
      "daily_update_interfere                1.0000000                0.5074471\n",
      "monthly_update_interfere              0.5074471                1.0000000"
     ]
    }
   ],
   "source": [
    "burden_ana |> \n",
    "  select(contains(\"interfere\")) |> \n",
    "  cor()\n"
   ],
   "id": "d261a097-dbdb-464a-a900-c3818c6abac4"
  },
  {
   "cell_type": "markdown",
   "metadata": {},
   "source": [
    "ICC"
   ],
   "id": "9b088500-b3c8-40e5-903e-b6cb6f9e17cc"
  },
  {
   "cell_type": "code",
   "execution_count": null,
   "metadata": {},
   "outputs": [
    {
     "output_type": "stream",
     "name": "stdout",
     "text": [
      "Call: psych::ICC(x = select(burden_ana, contains(\"interfere\")))\n",
      "\n",
      "Intraclass correlation coefficients \n",
      "                         type  ICC   F df1 df2       p lower bound upper bound\n",
      "Single_raters_absolute   ICC1 0.49 2.9 246 247 5.7e-17        0.39        0.58\n",
      "Single_random_raters     ICC2 0.50 3.0 246 246 1.2e-17        0.40        0.59\n",
      "Single_fixed_raters      ICC3 0.50 3.0 246 246 1.2e-17        0.40        0.59\n",
      "Average_raters_absolute ICC1k 0.66 2.9 246 247 5.7e-17        0.56        0.74\n",
      "Average_random_raters   ICC2k 0.66 3.0 246 246 1.2e-17        0.57        0.74\n",
      "Average_fixed_raters    ICC3k 0.67 3.0 246 246 1.2e-17        0.58        0.74\n",
      "\n",
      " Number of subjects = 247     Number of Judges =  2\n",
      "See the help file for a discussion of the other 4 McGraw and Wong estimates,"
     ]
    }
   ],
   "source": [
    "burden_ana |> \n",
    "  select(contains(\"interfere\")) |> \n",
    "  psych::ICC()\n"
   ],
   "id": "6aafaed4-af91-4724-876e-440d08eb3cea"
  },
  {
   "cell_type": "markdown",
   "metadata": {},
   "source": [
    "#### Correlation and Summary Statistics\n",
    "\n",
    "Run one sample t-tests to compare each raw data stream mean (for self-reported acceptability about interference) to a neutral score of 0."
   ],
   "id": "3232d42f-80d4-4f54-9929-b9692c5d1937"
  },
  {
   "cell_type": "code",
   "execution_count": null,
   "metadata": {},
   "outputs": [
    {
     "output_type": "stream",
     "name": "stdout",
     "text": [
      "# A tibble: 1 × 7\n",
      "  term        estimate std.error statistic  p.value    sd     d\n",
      "  <chr>          <dbl>     <dbl>     <dbl>    <dbl> <dbl> <dbl>\n",
      "1 (Intercept)     1.47    0.0570      25.7 1.19e-71 0.896  1.64"
     ]
    },
    {
     "output_type": "stream",
     "name": "stdout",
     "text": [
      "# A tibble: 1 × 7\n",
      "  term        estimate std.error statistic  p.value    sd     d\n",
      "  <chr>          <dbl>     <dbl>     <dbl>    <dbl> <dbl> <dbl>\n",
      "1 (Intercept)     1.15    0.0733      15.7 6.37e-39  1.15  1.00"
     ]
    },
    {
     "output_type": "stream",
     "name": "stdout",
     "text": [
      "# A tibble: 1 × 7\n",
      "  term        estimate std.error statistic  p.value    sd     d\n",
      "  <chr>          <dbl>     <dbl>     <dbl>    <dbl> <dbl> <dbl>\n",
      "1 (Intercept)    0.996    0.0743      13.4 3.71e-31  1.17 0.853"
     ]
    },
    {
     "output_type": "stream",
     "name": "stdout",
     "text": [
      "# A tibble: 1 × 7\n",
      "  term        estimate std.error statistic  p.value    sd     d\n",
      "  <chr>          <dbl>     <dbl>     <dbl>    <dbl> <dbl> <dbl>\n",
      "1 (Intercept)    0.972    0.0774      12.6 2.98e-28  1.21 0.801"
     ]
    },
    {
     "output_type": "stream",
     "name": "stdout",
     "text": [
      "# A tibble: 1 × 7\n",
      "  term        estimate std.error statistic  p.value    sd     d\n",
      "  <chr>          <dbl>     <dbl>     <dbl>    <dbl> <dbl> <dbl>\n",
      "1 (Intercept)    0.951    0.0773      12.3 2.26e-27  1.21 0.786"
     ]
    }
   ],
   "source": [
    "(dis_daily <- broom::tidy(lm(daily_update_dislike ~ 1, data = burden_ana)) |> \n",
    "  mutate(sd = sd(burden_ana$daily_update_dislike, na.rm = TRUE),\n",
    "         d = mean(burden_ana$daily_update_dislike, na.rm = TRUE)/sd))\n"
   ],
   "id": "c2eed8cb-95a6-4340-bb81-cab27f52d409"
  },
  {
   "cell_type": "markdown",
   "metadata": {},
   "source": [
    "Overall correlations"
   ],
   "id": "312fa2b9-0f22-49af-891f-1ee9a5e1347b"
  },
  {
   "cell_type": "code",
   "execution_count": null,
   "metadata": {},
   "outputs": [
    {
     "output_type": "stream",
     "name": "stdout",
     "text": [
      "                       daily_update_dislike monthly_update_dislike gps_dislike\n",
      "daily_update_dislike              1.0000000              0.4799559   0.3206389\n",
      "monthly_update_dislike            0.4799559              1.0000000   0.3255222\n",
      "gps_dislike                       0.3206389              0.3255222   1.0000000\n",
      "sms_phone_logs_dislike            0.3308976              0.3289403   0.7574698\n",
      "sms_content_dislike               0.3106661              0.2966956   0.7177839\n",
      "                       sms_phone_logs_dislike sms_content_dislike\n",
      "daily_update_dislike                0.3308976           0.3106661\n",
      "monthly_update_dislike              0.3289403           0.2966956\n",
      "gps_dislike                         0.7574698           0.7177839\n",
      "sms_phone_logs_dislike              1.0000000           0.8275681\n",
      "sms_content_dislike                 0.8275681           1.0000000"
     ]
    }
   ],
   "source": [
    "burden_ana |> \n",
    "  select(contains(\"dislike\")) |> \n",
    "  cor(use = \"pairwise.complete.obs\")\n"
   ],
   "id": "b68c236a-ca4f-4a5f-b9ca-a5e4b4a2f35a"
  },
  {
   "cell_type": "markdown",
   "metadata": {},
   "source": [
    "ICC"
   ],
   "id": "9b1e56b7-013f-4e92-b528-b98eb07c567e"
  },
  {
   "cell_type": "code",
   "execution_count": null,
   "metadata": {},
   "outputs": [
    {
     "output_type": "stream",
     "name": "stdout",
     "text": [
      "Call: psych::ICC(x = select(burden_ana, contains(\"dislike\")))\n",
      "\n",
      "Intraclass correlation coefficients \n",
      "                         type  ICC   F df1 df2     p lower bound upper bound\n",
      "Single_raters_absolute   ICC1 0.46 5.2 246 988 8e-78        0.40        0.52\n",
      "Single_random_raters     ICC2 0.46 5.6 246 984 5e-84        0.40        0.53\n",
      "Single_fixed_raters      ICC3 0.48 5.6 246 984 5e-84        0.42        0.54\n",
      "Average_raters_absolute ICC1k 0.81 5.2 246 988 8e-78        0.77        0.84\n",
      "Average_random_raters   ICC2k 0.81 5.6 246 984 5e-84        0.77        0.85\n",
      "Average_fixed_raters    ICC3k 0.82 5.6 246 984 5e-84        0.78        0.85\n",
      "\n",
      " Number of subjects = 247     Number of Judges =  5\n",
      "See the help file for a discussion of the other 4 McGraw and Wong estimates,"
     ]
    }
   ],
   "source": [
    "burden_ana |> \n",
    "  select(contains(\"dislike\")) |> \n",
    "  psych::ICC()\n"
   ],
   "id": "9edaed20-0266-423b-8c49-04a0b82e1684"
  }
 ],
 "nbformat": 4,
 "nbformat_minor": 5,
 "metadata": {}
}
