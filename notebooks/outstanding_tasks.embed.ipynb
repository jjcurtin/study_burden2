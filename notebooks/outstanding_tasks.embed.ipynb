{
 "cells": [
  {
   "cell_type": "markdown",
   "metadata": {},
   "source": [
    "# Outstanding tasks\n",
    "\n",
    "1.  Update cleaning/processing scripts\n",
    "\n",
    "    -   DONE 9/3/24\n",
    "\n",
    "2.  recode neutral/mixed comments\n",
    "\n",
    "    -   DONE 9/3/24\n",
    "\n",
    "3.  quant analyses on dislike and interference\n",
    "\n",
    "    -   overall DONE!\n",
    "    -   by demographic and number of lapses up until survey?\n",
    "\n",
    "4.  get overall EMA compliance and disposition\n",
    "\n",
    "    -   overall DONE 9/20/24\n",
    "    -   look at compliance for participants with at least one month on study DONE 9/27/24\n",
    "    -   look at demographic differences in these two behavioral measures\n",
    "    -   Use number of lapses as moderator? (is it harder to comply behaviorally when lapsing?)\n",
    "\n",
    "5.  rerun Qual analyses\n",
    "\n",
    "    -   use number of lapses as moderator? (does engaging in illicit behavior change perceptions about providing data on use?)\n",
    "    -   Cross compare affect and theme\n",
    "\n",
    "6.  Categorize location data for comparisons - use population density/housing units in zip code data"
   ],
   "id": "04dcb46b-1694-4641-b9f7-7038d721ef5e"
  }
 ],
 "nbformat": 4,
 "nbformat_minor": 5,
 "metadata": {}
}
