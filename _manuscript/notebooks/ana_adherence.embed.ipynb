{
 "cells": [
  {
   "cell_type": "markdown",
   "metadata": {},
   "source": [
    "# EMA adherence\n",
    "\n",
    "Kendra Wyant  \n",
    "September 27, 2024\n",
    "\n",
    "Purpose: This file calculates overall weekly EMA adherence using EMA survey data (`survey_daily.csv`).\n",
    "\n",
    "## Set up"
   ],
   "id": "a7f87aef-4d76-4764-b66a-7e60702a228c"
  },
  {
   "cell_type": "code",
   "execution_count": null,
   "metadata": {},
   "outputs": [
    {
     "output_type": "stream",
     "name": "stderr",
     "text": [
      "── Attaching core tidyverse packages ──────────────────────── tidyverse 2.0.0 ──\n",
      "✔ dplyr     1.1.4     ✔ readr     2.1.5\n",
      "✔ forcats   1.0.0     ✔ stringr   1.5.1\n",
      "✔ ggplot2   3.5.1     ✔ tibble    3.2.1\n",
      "✔ lubridate 1.9.3     ✔ tidyr     1.3.1\n",
      "✔ purrr     1.0.2     \n",
      "── Conflicts ────────────────────────────────────────── tidyverse_conflicts() ──\n",
      "✖ dplyr::filter() masks stats::filter()\n",
      "✖ dplyr::lag()    masks stats::lag()\n",
      "ℹ Use the conflicted package (<http://conflicted.r-lib.org/>) to force all conflicts to become errors"
     ]
    },
    {
     "output_type": "stream",
     "name": "stderr",
     "text": [
      "Warning: package 'DiagrammeR' was built under R version 4.4.1"
     ]
    },
    {
     "output_type": "stream",
     "name": "stderr",
     "text": [
      "ℹ SHA-1 hash of file is \"a58e57da996d1b70bb9a5b58241325d6fd78890f\""
     ]
    }
   ],
   "source": [
    "#| message: false\n",
    "\n",
    "options(conflicts.policy = \"depends.ok\")\n",
    "library(tidyverse) "
   ],
   "id": "21594557-4ff8-4970-a1db-3a6bed906db3"
  },
  {
   "cell_type": "markdown",
   "metadata": {},
   "source": [
    "### Data"
   ],
   "id": "a144db69-1494-409a-b26b-bcb25396fbf9"
  },
  {
   "cell_type": "code",
   "execution_count": null,
   "metadata": {},
   "outputs": [],
   "source": [
    "ema <- read_csv(here::here(path_shared, \"survey_daily.csv\"),\n",
    "                show_col_types = FALSE) |> \n",
    "  mutate(start_date = as_datetime(start_date, tz = \"America/Chicago\"))\n",
    "\n",
    "burden_quant <- read_csv(here::here(path_burden, \"burden_quant.csv\"),\n",
    "                   show_col_types = FALSE)\n",
    "burden_qual <- read_csv(here::here(path_burden, \"burden_qual.csv\"),\n",
    "                   show_col_types = FALSE)"
   ],
   "id": "36bef0b3-88e4-4c96-8c0e-5529d15751f3"
  },
  {
   "cell_type": "markdown",
   "metadata": {},
   "source": [
    "burden subids"
   ],
   "id": "e57673d5-44a6-4849-b6a4-0c1b37d75280"
  },
  {
   "cell_type": "code",
   "execution_count": null,
   "metadata": {},
   "outputs": [],
   "source": [
    "burden_subids <- burden_quant |> \n",
    "  pull(subid) |>\n",
    "  unique()"
   ],
   "id": "68ea8530-745e-4b31-97c2-3017d81644e1"
  },
  {
   "cell_type": "markdown",
   "metadata": {},
   "source": [
    "### Disposition\n",
    "\n",
    "Study start and end dates for each subid"
   ],
   "id": "be6df65c-2a2e-498a-8be7-5d7316b7b510"
  },
  {
   "cell_type": "code",
   "execution_count": null,
   "metadata": {},
   "outputs": [],
   "source": [
    "study_start <- ema |> \n",
    "  group_by(subid) |> \n",
    "  arrange(start_date) |> \n",
    "  slice(1) |> \n",
    "  ungroup() |> \n",
    "  mutate(study_start = as_date(start_date)) |> \n",
    "  select(subid, study_start)\n",
    "\n",
    "study_end <- ema |> \n",
    "  group_by(subid) |> \n",
    "  arrange(desc(start_date)) |> \n",
    "  slice(1) |> \n",
    "  ungroup() |> \n",
    "  mutate(study_end = as_date(start_date)) |> \n",
    "  select(subid, study_end)\n",
    "\n",
    "dates <- study_start |> \n",
    "  full_join(study_end, by = \"subid\") |> \n",
    "  mutate(study_days = study_end - study_start)"
   ],
   "id": "626878d2-f376-4a5c-9388-235bcffccc2c"
  },
  {
   "cell_type": "markdown",
   "metadata": {},
   "source": [
    "Days on study\n",
    "\n",
    "336 participants started study/provided at least one month of EMA."
   ],
   "id": "30357140-bc8e-4376-84e3-a87fd2593f15"
  },
  {
   "cell_type": "code",
   "execution_count": null,
   "metadata": {},
   "outputs": [
    {
     "output_type": "display_data",
     "metadata": {},
     "data": {
      "text/markdown": [
       "  ----------------------------------------------------------------------------------\n",
       "  skim_variable     n_missing   complete_rate min     max      median       n_unique\n",
       "  --------------- ----------- --------------- ------- -------- ---------- ----------\n",
       "  study_days                0               1 31 days 416 days 350.5 days        169\n",
       "\n",
       "  ----------------------------------------------------------------------------------\n"
      ]
     }
    }
   ],
   "source": [
    "dates |> \n",
    "  skim(study_days) |> \n",
    "  yank(\"difftime\")"
   ],
   "id": "fa13ea49-28b2-45a1-8c26-086873b3804f"
  },
  {
   "cell_type": "markdown",
   "metadata": {},
   "source": [
    "For participants who completed burden study:  \n",
    "Min days on study = 122 days (all participants provided data for at least 4 months)"
   ],
   "id": "ba54a8ae-cb29-4b2a-a7cc-233794cd7d20"
  },
  {
   "cell_type": "code",
   "execution_count": null,
   "metadata": {},
   "outputs": [
    {
     "output_type": "display_data",
     "metadata": {},
     "data": {
      "text/markdown": [
       "  ---------------------------------------------------------------------------------\n",
       "  skim_variable     n_missing   complete_rate min      max      median     n_unique\n",
       "  --------------- ----------- --------------- -------- -------- -------- ----------\n",
       "  study_days                0               1 122 days 416 days 356 days        118\n",
       "\n",
       "  ---------------------------------------------------------------------------------\n"
      ]
     }
    }
   ],
   "source": [
    "dates |> \n",
    "  filter(subid %in% burden_subids) |>\n",
    "  skim(study_days) |> \n",
    "  yank(\"difftime\")"
   ],
   "id": "74fbbb61-0825-4b8d-92c0-344d890dafb6"
  },
  {
   "cell_type": "markdown",
   "metadata": {},
   "source": [
    "Disposition of participants by month\n",
    "\n",
    "**Why participants on study for 7 months but no burden survey?**"
   ],
   "id": "14c721ae-c6cc-4d52-b2d3-bd201fb7a293"
  },
  {
   "cell_type": "code",
   "execution_count": null,
   "metadata": {},
   "outputs": [],
   "source": [
    "month_1 <- dates |> \n",
    "  filter(study_days >= 30) |> \n",
    "  nrow()\n",
    "\n",
    "month_2 <- dates |> \n",
    "  filter(study_days >= 60)  |> \n",
    "  nrow()\n",
    "\n",
    "month_3 <- dates |> \n",
    "  filter(study_days >= 90)  |> \n",
    "  nrow()\n",
    "\n",
    "month_4 <- dates |> \n",
    "  filter(study_days >= 120)  |> \n",
    "  nrow()\n",
    "\n",
    "month_4_burden <- dates |>\n",
    "  filter(study_days >= 120)  |> \n",
    "  filter(subid %in% burden_subids)  |> \n",
    "  nrow()\n",
    "\n",
    "month_5 <- dates |> \n",
    "  filter(study_days >= 150)  |> \n",
    "  nrow()\n",
    "\n",
    "month_5_burden <- dates |>\n",
    "  filter(study_days >= 150)  |> \n",
    "  filter(subid %in% burden_subids)  |> \n",
    "  nrow()\n",
    "\n",
    "month_6 <- dates |>\n",
    "  filter(study_days >= 180)  |> \n",
    "  nrow()\n",
    "\n",
    "month_6_burden <- dates |>\n",
    "  filter(study_days >= 180)  |> \n",
    "  filter(subid %in% burden_subids)  |> \n",
    "  nrow()\n",
    "\n",
    "month_7 <- dates |>\n",
    "  filter(study_days >= 210)  |> \n",
    "  nrow()\n",
    "\n",
    "month_7_burden <- dates |>\n",
    "  filter(study_days >= 210)  |> \n",
    "  filter(subid %in% burden_subids)  |> \n",
    "  nrow()\n",
    "\n",
    "month_8 <- dates |>\n",
    "  filter(study_days >= 240)  |> \n",
    "  nrow()\n",
    "\n",
    "month_8_burden <- dates |>\n",
    "  filter(study_days >= 240)  |> \n",
    "  filter(subid %in% burden_subids)  |> \n",
    "  nrow()\n",
    "\n",
    "month_9 <- dates |>\n",
    "  filter(study_days >= 270)  |> \n",
    "  nrow()\n",
    "\n",
    "month_9_burden <- dates |>\n",
    "  filter(study_days >= 270)  |> \n",
    "  filter(subid %in% burden_subids)  |> \n",
    "  nrow()\n",
    "\n",
    "month_10 <- dates |>\n",
    "  filter(study_days >= 300)  |> \n",
    "  nrow()\n",
    "\n",
    "month_10_burden <- dates |>\n",
    "  filter(study_days >= 300)  |> \n",
    "  filter(subid %in% burden_subids)  |> \n",
    "  nrow()\n",
    "\n",
    "month_11 <- dates |>\n",
    "  filter(study_days >= 330) |> \n",
    "  nrow()\n",
    "\n",
    "month_11_burden <- dates |>\n",
    "  filter(study_days >= 330)  |> \n",
    "  filter(subid %in% burden_subids)  |> \n",
    "  nrow()\n",
    "\n",
    "month_12 <- dates |>\n",
    "  filter(study_days >= 360) |> \n",
    "  nrow()\n",
    "\n",
    "month_12_burden <- dates |>\n",
    "  filter(study_days >= 360)  |> \n",
    "  filter(subid %in% burden_subids)  |> \n",
    "  nrow()"
   ],
   "id": "a2007b8d-21b9-4806-acc4-92940f3baf38"
  },
  {
   "cell_type": "code",
   "execution_count": null,
   "metadata": {},
   "outputs": [
    {
     "output_type": "display_data",
     "metadata": {},
     "data": {
      "text/html": [
       "<div id=\"htmlwidget-c10f743e76fce56dca93\" style=\"width:672px;height:1000px;\" class=\"grViz html-widget\"></div>\n",
       "<script type=\"application/json\" data-for=\"htmlwidget-c10f743e76fce56dca93\">{\"x\":{\"diagram\":\"\\n  digraph {\\n  \\n  node [fontname = \\\"Arial\\\", shape = rectangle, fixedsize = true, width = 1.7, height = .6]\\n  a [label = \\\"Month 1\\n N =  336\\\"]\\n  b [label = \\\"Month 2\\nN = 319\\\"]\\n  c [label = \\\"Month 3\\nN = 306\\\"]\\n  d1 [label = \\\"Month 4\\nN = 290\\\"]\\n  d2 [label = \\\"Month 4 + Survey\\nN = 247\\\", color = crimson]\\n  e1 [label = \\\"Month 5\\nN = 275\\\"]\\n  f1 [label = \\\"Month 6\\nN = 267\\\"]\\n  g1 [label = \\\"Month 7\\nN = 260\\\"]\\n  h1 [label = \\\"Month 8\\nN = 242\\\"]\\n  i1 [label = \\\"Month 9\\nN = 223\\\"]\\n  j1 [label = \\\"Month 10\\nN = 210\\\"]\\n  k1 [label = \\\"Month 11\\nN = 186\\\"]\\n  l1 [label = \\\"Month 12\\nN = 107\\\"]\\n  e2 [label = \\\"Month 5\\nN = 238\\\"]\\n  f2 [label = \\\"Month 6\\nN = 235\\\"]\\n  g2 [label = \\\"Month 7\\nN = 228\\\"]\\n  h2 [label = \\\"Month 8\\nN = 215\\\"]\\n  i2 [label = \\\"Month 9\\nN = 199\\\"]\\n  j2 [label = \\\"Month 10\\nN = 188\\\"]\\n  k2 [label = \\\"Month 11\\nN = 166\\\"]\\n  l2 [label = \\\"Month 12\\nN = 96\\\"]\\n  \\n  \\n  {rank = same; d1; d2}\\n  a -> b\\n  b -> c\\n  c -> d1 -> d2\\n  d1 -> e1 -> f1 -> g1 -> h1 -> i1 -> j1 -> k1 -> l1\\n  d2 -> e2 -> f2 -> g2 -> h2 -> i2 -> j2 -> k2 -> l2\\n  }\",\"config\":{\"engine\":\"dot\",\"options\":null}},\"evals\":[],\"jsHooks\":[]}</script>"
      ]
     }
    }
   ],
   "source": [
    "DiagrammeR::grViz(\"\n",
    "  digraph {\n",
    "  \n",
    "  node [fontname = 'Arial', shape = rectangle, fixedsize = true, width = 1.7, height = .6]\n",
    "  a [label = '@@1']\n",
    "  b [label = '@@2']\n",
    "  c [label = '@@3']\n",
    "  d1 [label = '@@4']\n",
    "  d2 [label = '@@5', color = crimson]\n",
    "  e1 [label = '@@6']\n",
    "  f1 [label = '@@7']\n",
    "  g1 [label = '@@8']\n",
    "  h1 [label = '@@9']\n",
    "  i1 [label = '@@10']\n",
    "  j1 [label = '@@11']\n",
    "  k1 [label = '@@12']\n",
    "  l1 [label = '@@13']\n",
    "  e2 [label = '@@14']\n",
    "  f2 [label = '@@15']\n",
    "  g2 [label = '@@16']\n",
    "  h2 [label = '@@17']\n",
    "  i2 [label = '@@18']\n",
    "  j2 [label = '@@19']\n",
    "  k2 [label = '@@20']\n",
    "  l2 [label = '@@21']\n",
    "  \n",
    "  \n",
    "  {rank = same; d1; d2}\n",
    "  a -> b\n",
    "  b -> c\n",
    "  c -> d1 -> d2\n",
    "  d1 -> e1 -> f1 -> g1 -> h1 -> i1 -> j1 -> k1 -> l1\n",
    "  d2 -> e2 -> f2 -> g2 -> h2 -> i2 -> j2 -> k2 -> l2\n",
    "  }\n",
    "  \n",
    "  [1]: paste('Month 1\\\\n', 'N = ', month_1)\n",
    "  [2]: str_c('Month 2\\\\n', 'N = ', month_2) \n",
    "  [3]: str_c('Month 3\\\\n', 'N = ', month_3)\n",
    "  [4]: str_c('Month 4\\\\n', 'N = ', month_4)\n",
    "  [5]: str_c('Month 4 + Survey\\\\n', 'N = ', month_4_burden)\n",
    "  [6]: str_c('Month 5\\\\n', 'N = ', month_5)\n",
    "  [7]: str_c('Month 6\\\\n', 'N = ', month_6)\n",
    "  [8]: str_c('Month 7\\\\n', 'N = ', month_7)\n",
    "  [9]: str_c('Month 8\\\\n', 'N = ', month_8)\n",
    "  [10]: str_c('Month 9\\\\n', 'N = ', month_9)\n",
    "  [11]: str_c('Month 10\\\\n', 'N = ', month_10)\n",
    "  [12]: str_c('Month 11\\\\n', 'N = ', month_11)\n",
    "  [13]: str_c('Month 12\\\\n', 'N = ', month_12)\n",
    "  [14]: str_c('Month 5\\\\n', 'N = ', month_5_burden)\n",
    "  [15]: str_c('Month 6\\\\n', 'N = ', month_6_burden)\n",
    "  [16]: str_c('Month 7\\\\n', 'N = ', month_7_burden)\n",
    "  [17]: str_c('Month 8\\\\n', 'N = ', month_8_burden)\n",
    "  [18]: str_c('Month 9\\\\n', 'N = ', month_9_burden)\n",
    "  [19]: str_c('Month 10\\\\n', 'N = ', month_10_burden)\n",
    "  [20]: str_c('Month 11\\\\n', 'N = ', month_11_burden)\n",
    "  [21]: str_c('Month 12\\\\n', 'N = ', month_12_burden)\n",
    "  \", height = \"1000px\") "
   ],
   "id": "621c2e36-1543-4961-a693-dbe38fe3abe9"
  },
  {
   "cell_type": "markdown",
   "metadata": {},
   "source": [
    "### Overall Adherence (at least one month on study)\n",
    "\n",
    "Get all study days for each subid"
   ],
   "id": "a855f12a-0bcc-4805-8c56-8c2ae0a8b42a"
  },
  {
   "cell_type": "code",
   "execution_count": null,
   "metadata": {},
   "outputs": [],
   "source": [
    "# function to map over\n",
    "get_study_days <- function(the_subid, dates) {\n",
    "  study_start <- dates |>  filter(subid == the_subid) |>  pull(study_start)\n",
    "  study_end <- dates |>  filter(subid == the_subid) |> pull(study_end)\n",
    "  study_days <- tibble(subid = the_subid, study_day = seq(study_start, study_end - days(1), by = \"day\")) \n",
    "  return(study_days)\n",
    "}\n",
    "\n",
    "study_dates <- dates$subid |> \n",
    "  map_dfr(~get_study_days(.x, dates))"
   ],
   "id": "75a9c468-be56-4f9d-9e4b-4adeca2e3470"
  },
  {
   "cell_type": "markdown",
   "metadata": {},
   "source": [
    "Count surveys per study day (day starts at 6 am)"
   ],
   "id": "f2b06091-5efe-4eca-91dc-75180b0dbc19"
  },
  {
   "cell_type": "code",
   "execution_count": null,
   "metadata": {},
   "outputs": [],
   "source": [
    "ema_count <- ema |>\n",
    "  mutate(study_day = if_else(hour(start_date) >= 6, \n",
    "                        as_date(start_date),\n",
    "                        as_date(start_date) - days(1))) |> \n",
    "  count(subid, study_day) \n",
    "\n",
    "\n",
    "ema_count <- ema_count |> \n",
    "  mutate(n = if_else(n > 1, 1, n))"
   ],
   "id": "8b914683-1b45-45dd-97ad-23fb76c67afd"
  },
  {
   "cell_type": "markdown",
   "metadata": {},
   "source": [
    "Add counts to study dates"
   ],
   "id": "9f70a939-5563-4b73-82cf-5ca16525bad2"
  },
  {
   "cell_type": "code",
   "execution_count": null,
   "metadata": {},
   "outputs": [],
   "source": [
    "count_study_dates <- study_dates |> \n",
    "  left_join(ema_count, by = c(\"subid\", \"study_day\")) |> \n",
    "  mutate(n = if_else(is.na(n), 0, n)) |> \n",
    "  mutate(n_prompts = 1) "
   ],
   "id": "eb798626-3817-4e4a-85e1-160f624025e0"
  },
  {
   "cell_type": "markdown",
   "metadata": {},
   "source": [
    "calculate mean adherence"
   ],
   "id": "ae57b1ea-549b-4172-bb63-13ce388ebdea"
  },
  {
   "cell_type": "code",
   "execution_count": null,
   "metadata": {},
   "outputs": [],
   "source": [
    "mean_ema <- count_study_dates |> \n",
    "  group_by(subid) |> \n",
    "  summarize(n_total = sum(n), prompt_total = sum(n_prompts)) |> \n",
    "  mutate(mean = n_total/prompt_total) |> \n",
    "  ungroup() |> \n",
    "  summarize(mean = mean(mean))"
   ],
   "id": "65eb8e2d-da35-4247-a89a-1f06ce2b58e9"
  },
  {
   "cell_type": "markdown",
   "metadata": {},
   "source": [
    "On average participants (N = 336) completed 0.71 daily surveys each day they were on study. That is their overall adherence for a once daily EMA was 71%.\n",
    "\n",
    "Hist of overall adherence by subid"
   ],
   "id": "14846d9e-d99a-4e62-975c-449080c854bb"
  },
  {
   "cell_type": "code",
   "execution_count": null,
   "metadata": {},
   "outputs": [
    {
     "output_type": "display_data",
     "metadata": {},
     "data": {
      "image/png": "[encoded data removed]"
     }
    }
   ],
   "source": [
    "count_study_dates |> \n",
    "  group_by(subid) |> \n",
    "  summarise(n_total = sum(n),\n",
    "            n_prompts = sum(n_prompts)) |> \n",
    "  mutate(adherence = n_total/n_prompts) |> \n",
    "  ggplot(aes(x = adherence)) +\n",
    "  geom_histogram(color = \"black\", fill = \"light grey\", binwidth = .1, center = .55) +\n",
    "  scale_x_continuous(breaks = c(0, 0.10, 0.20, 0.30, 0.40, 0.50, 0.60, 0.70, 0.80, 0.90, 1.0)) +\n",
    "  labs(y = \"Frequency\", x = \"Proportion of daily survey's completed\",\n",
    "       subtitle = \"Daily Survey Adherence (N = 247)\") +\n",
    "  geom_vline(aes(xintercept = mean_ema$mean), linewidth = .3) +\n",
    "  theme_classic()"
   ],
   "id": "166414c8-c952-4759-ae3a-e3713f0d869e"
  },
  {
   "cell_type": "markdown",
   "metadata": {},
   "source": [
    "### Adherence over time (at least one month on study)\n",
    "\n",
    "Quite a few people have over 365 days of EMA. **Lose these in adherence over 12 month plot**."
   ],
   "id": "68cac1a3-daf4-4496-8ce2-2227b31f68e1"
  },
  {
   "cell_type": "code",
   "execution_count": null,
   "metadata": {},
   "outputs": [
    {
     "output_type": "stream",
     "name": "stdout",
     "text": [
      "# A tibble: 65 × 5\n",
      "   subid study_start study_end  study_days n       \n",
      "   <dbl> <date>      <date>     <drtn>     <drtn>  \n",
      " 1  1152 2022-09-06  2023-10-27 416 days   416 days\n",
      " 2  1200 2022-11-01  2023-12-22 416 days   416 days\n",
      " 3  1146 2022-08-16  2023-10-03 413 days   413 days\n",
      " 4  1286 2023-02-28  2024-04-12 409 days   409 days\n",
      " 5  1211 2022-11-17  2023-12-27 405 days   405 days\n",
      " 6  1080 2022-05-10  2023-06-17 403 days   403 days\n",
      " 7  1197 2022-10-31  2023-12-08 403 days   403 days\n",
      " 8  1269 2023-02-06  2024-03-07 395 days   395 days\n",
      " 9  1168 2022-10-03  2023-10-31 393 days   393 days\n",
      "10  1352 2023-06-07  2024-07-02 391 days   391 days\n",
      "11  1035 2022-03-07  2023-04-01 390 days   390 days\n",
      "12  1070 2022-04-28  2023-05-22 389 days   389 days\n",
      "13  1071 2022-04-29  2023-05-23 389 days   389 days\n",
      "14  1036 2022-03-11  2023-04-03 388 days   388 days\n",
      "15  1044 2022-03-25  2023-04-17 388 days   388 days\n",
      "16  1302 2023-03-16  2024-04-07 388 days   388 days\n",
      "17  1029 2022-02-21  2023-03-15 387 days   387 days\n",
      "18  1030 2022-02-23  2023-03-16 386 days   386 days\n",
      "19  1046 2022-03-28  2023-04-18 386 days   386 days\n",
      "20  1122 2022-07-11  2023-08-01 386 days   386 days\n",
      "21  1249 2023-01-10  2024-01-31 386 days   386 days\n",
      "22  1012 2021-09-15  2022-10-05 385 days   385 days\n",
      "23  1112 2022-06-27  2023-07-17 385 days   385 days\n",
      "24  1148 2022-08-19  2023-09-08 385 days   385 days\n",
      "25  1371 2023-07-11  2024-07-30 385 days   385 days\n",
      "26  1033 2022-03-03  2023-03-22 384 days   384 days\n",
      "27  1048 2022-03-29  2023-04-17 384 days   384 days\n",
      "28  1051 2022-03-30  2023-04-17 383 days   383 days\n",
      "29  1038 2022-03-14  2023-03-31 382 days   382 days\n",
      "30  1099 2022-06-13  2023-06-30 382 days   382 days\n",
      "31  1219 2022-12-02  2023-12-19 382 days   382 days\n",
      "32  1222 2022-12-02  2023-12-19 382 days   382 days\n",
      "33  1113 2022-06-27  2023-07-13 381 days   381 days\n",
      "34  1039 2022-03-14  2023-03-29 380 days   380 days\n",
      "35  1216 2022-11-30  2023-12-15 380 days   380 days\n",
      "36  1066 2022-04-27  2023-05-11 379 days   379 days\n",
      "37  1198 2022-10-31  2023-11-14 379 days   379 days\n",
      "38  1201 2022-11-01  2023-11-15 379 days   379 days\n",
      "39  1218 2022-12-01  2023-12-15 379 days   379 days\n",
      "40  1220 2022-12-01  2023-12-15 379 days   379 days\n",
      "41  1306 2023-03-21  2024-04-03 379 days   379 days\n",
      "42  1356 2023-06-14  2024-06-27 379 days   379 days\n",
      "43  1278 2023-02-16  2024-02-29 378 days   378 days\n",
      "44  1050 2022-03-31  2023-04-12 377 days   377 days\n",
      "45  1061 2022-04-22  2023-05-02 375 days   375 days\n",
      "46  1380 2023-07-26  2024-08-04 375 days   375 days\n",
      "47  1384 2023-07-27  2024-08-04 374 days   374 days\n",
      "48  1041 2022-03-17  2023-03-24 372 days   372 days\n",
      "49  1037 2022-03-14  2023-03-20 371 days   371 days\n",
      "50  1297 2023-03-09  2024-03-14 371 days   371 days\n",
      "51  1009 2021-05-04  2022-05-09 370 days   370 days\n",
      "52  1182 2022-10-19  2023-10-23 369 days   369 days\n",
      "53  1188 2022-10-22  2023-10-26 369 days   369 days\n",
      "54  1006 2021-04-21  2022-04-24 368 days   368 days\n",
      "55  1079 2022-05-09  2023-05-12 368 days   368 days\n",
      "56  1153 2022-09-06  2023-09-09 368 days   368 days\n",
      "57  1312 2023-03-27  2024-03-29 368 days   368 days\n",
      "58  1023 2022-02-09  2023-02-11 367 days   367 days\n",
      "59  1031 2022-02-28  2023-03-02 367 days   367 days\n",
      "60  1081 2022-05-10  2023-05-12 367 days   367 days\n",
      "61  1367 2023-07-05  2024-07-06 367 days   367 days\n",
      "62  1388 2023-08-03  2024-08-04 367 days   367 days\n",
      "63  1068 2022-04-27  2023-04-28 366 days   366 days\n",
      "64  1324 2023-04-18  2024-04-18 366 days   366 days\n",
      "65  1337 2023-06-01  2024-06-01 366 days   366 days"
     ]
    }
   ],
   "source": [
    "dates |> \n",
    "  mutate(n = study_end - study_start) |> \n",
    "  arrange(desc(n)) |> \n",
    "  filter(n > 365) |> \n",
    "  print(n = Inf)"
   ],
   "id": "2118a01f-b978-41b8-b3c2-7dac531809e3"
  },
  {
   "cell_type": "markdown",
   "metadata": {},
   "source": [
    "Slice into 30 day bins"
   ],
   "id": "0c7cd212-0737-44c8-aa45-b4ff061312a2"
  },
  {
   "cell_type": "code",
   "execution_count": null,
   "metadata": {},
   "outputs": [],
   "source": [
    "study_months <- count_study_dates |> \n",
    "  group_by(subid) |> \n",
    "  slice(1:30) |> \n",
    "  mutate(month = 1) |> \n",
    "  bind_rows(count_study_dates |> \n",
    "    group_by(subid) |> \n",
    "    slice(31:60) |> \n",
    "    mutate(month = 2)) |> \n",
    "  bind_rows(count_study_dates |> \n",
    "    group_by(subid) |> \n",
    "    slice(61:90) |> \n",
    "    mutate(month = 3)) |> \n",
    "  bind_rows(count_study_dates |> \n",
    "    group_by(subid) |> \n",
    "    slice(91:120) |> \n",
    "    mutate(month = 4)) |> \n",
    "  bind_rows(count_study_dates |> \n",
    "    group_by(subid) |> \n",
    "    slice(121:150) |> \n",
    "    mutate(month = 5)) |> \n",
    "  bind_rows(count_study_dates |> \n",
    "    group_by(subid) |> \n",
    "    slice(151:180) |> \n",
    "    mutate(month = 6)) |> \n",
    "  bind_rows(count_study_dates |> \n",
    "    group_by(subid) |> \n",
    "    slice(181:210) |> \n",
    "    mutate(month = 7)) |> \n",
    "  bind_rows(count_study_dates |> \n",
    "    group_by(subid) |> \n",
    "    slice(211:240) |> \n",
    "    mutate(month = 8)) |> \n",
    "  bind_rows(count_study_dates |> \n",
    "    group_by(subid) |> \n",
    "    slice(241:270) |> \n",
    "    mutate(month = 9)) |> \n",
    "  bind_rows(count_study_dates |> \n",
    "    group_by(subid) |> \n",
    "    slice(271:300) |> \n",
    "    mutate(month = 10)) |> \n",
    "  bind_rows(count_study_dates |> \n",
    "    group_by(subid) |> \n",
    "    slice(301:330) |> \n",
    "    mutate(month = 11)) |> \n",
    "  bind_rows(count_study_dates |> \n",
    "    group_by(subid) |> \n",
    "    slice(331:360) |> \n",
    "    mutate(month = 12)) |> \n",
    "  ungroup()"
   ],
   "id": "258a574c-31cc-40c9-a32a-500f0f185a90"
  },
  {
   "cell_type": "markdown",
   "metadata": {},
   "source": [
    "Get individual adherence scores"
   ],
   "id": "c37768d8-0876-40a1-86bf-87c1b46c2e4f"
  },
  {
   "cell_type": "code",
   "execution_count": null,
   "metadata": {},
   "outputs": [],
   "source": [
    "ema_month_adherence <- study_months |> \n",
    "  group_by(subid, month) |> \n",
    "  summarize(sum_n = sum(n), sum_prompts = sum(n_prompts), .groups = \"rowwise\") |> \n",
    "  mutate(adherence = sum_n/sum_prompts) |> \n",
    "  ungroup()"
   ],
   "id": "ba4e483b-2406-49b4-9c66-2e1fc6bef7b5"
  },
  {
   "cell_type": "markdown",
   "metadata": {},
   "source": [
    "Summarize total adherence"
   ],
   "id": "d671ea63-3c30-48de-896c-56cee3fd2d6a"
  },
  {
   "cell_type": "code",
   "execution_count": null,
   "metadata": {},
   "outputs": [
    {
     "output_type": "stream",
     "name": "stdout",
     "text": [
      "# A tibble: 12 × 2\n",
      "   month mean_adherence\n",
      "   <dbl>          <dbl>\n",
      " 1     1          0.812\n",
      " 2     2          0.780\n",
      " 3     3          0.751\n",
      " 4     4          0.716\n",
      " 5     5          0.710\n",
      " 6     6          0.724\n",
      " 7     7          0.719\n",
      " 8     8          0.707\n",
      " 9     9          0.705\n",
      "10    10          0.708\n",
      "11    11          0.679\n",
      "12    12          0.688"
     ]
    }
   ],
   "source": [
    "ema_month_adherence |> \n",
    "  group_by(month) |> \n",
    "  summarize(mean_adherence = mean(adherence)) "
   ],
   "id": "b14249f4-874a-413c-9ce3-f8309b96f3b2"
  },
  {
   "cell_type": "markdown",
   "metadata": {},
   "source": [
    "Plot adherence by month"
   ],
   "id": "83a3ba47-1fe5-4d06-ab7f-309fe7d00cdf"
  },
  {
   "cell_type": "code",
   "execution_count": null,
   "metadata": {},
   "outputs": [
    {
     "output_type": "display_data",
     "metadata": {},
     "data": {
      "image/png": "[encoded data removed]"
     }
    }
   ],
   "source": [
    "ema_month_adherence |> \n",
    "  group_by(month) |> \n",
    "  summarize(mean_adherence = mean(adherence)) |> \n",
    "  ggplot(aes(x = month, y = mean_adherence)) +\n",
    "  geom_point() +\n",
    "  geom_line() +\n",
    "  theme_classic() +\n",
    "  scale_x_continuous(name = \"month\", \n",
    "                     breaks = seq(1, 12, 1)) +\n",
    "  scale_y_continuous(name = \"adherence\", \n",
    "                     breaks = seq(0, 1, .1), \n",
    "                     limits = c(0, 1)) +\n",
    "  labs(title = \"Daily survey adherence over time (N = 336) \") +\n",
    "  theme(legend.title = element_blank()) +\n",
    "  geom_hline(aes(yintercept = mean(mean_adherence)), linetype = \"dashed\", linewidth = .3)"
   ],
   "id": "72cb5caf-83b6-4abb-a13d-7f9a9bffecda"
  },
  {
   "cell_type": "markdown",
   "metadata": {},
   "source": [
    "### Overall Adherence (burden sample/4 months on study)\n",
    "\n",
    "Get all study days for each subid"
   ],
   "id": "564cddb5-2947-4005-8139-841b9c1214b7"
  },
  {
   "cell_type": "code",
   "execution_count": null,
   "metadata": {},
   "outputs": [],
   "source": [
    "study_dates <- burden_subids |> \n",
    "  map_dfr(~get_study_days(.x, dates))"
   ],
   "id": "37916ab4-616b-4f25-8ff3-5b0236bf2e8a"
  },
  {
   "cell_type": "markdown",
   "metadata": {},
   "source": [
    "Count surveys per study day (day starts at 6 am)"
   ],
   "id": "01c72a41-4cb8-4baa-8662-9db2ca379925"
  },
  {
   "cell_type": "code",
   "execution_count": null,
   "metadata": {},
   "outputs": [],
   "source": [
    "ema_count <- ema |>\n",
    "  mutate(study_day = if_else(hour(start_date) >= 6, \n",
    "                        as_date(start_date),\n",
    "                        as_date(start_date) - days(1))) |> \n",
    "  count(subid, study_day) \n",
    "\n",
    "\n",
    "ema_count <- ema_count |> \n",
    "  mutate(n = if_else(n > 1, 1, n))"
   ],
   "id": "015a0f6d-812e-4664-9f8c-4b3ea61ae811"
  },
  {
   "cell_type": "markdown",
   "metadata": {},
   "source": [
    "Add counts to study dates"
   ],
   "id": "b2fadb41-058c-484f-80aa-2eff257c7f8e"
  },
  {
   "cell_type": "code",
   "execution_count": null,
   "metadata": {},
   "outputs": [],
   "source": [
    "count_study_dates <- study_dates |> \n",
    "  left_join(ema_count, by = c(\"subid\", \"study_day\")) |> \n",
    "  mutate(n = if_else(is.na(n), 0, n)) |> \n",
    "  mutate(n_prompts = 1) "
   ],
   "id": "aa334518-6ddd-40d3-8f4b-e6ad8bdcc03f"
  },
  {
   "cell_type": "markdown",
   "metadata": {},
   "source": [
    "calculate mean adherence"
   ],
   "id": "0983b843-c96f-45f0-9541-b5321db52910"
  },
  {
   "cell_type": "code",
   "execution_count": null,
   "metadata": {},
   "outputs": [],
   "source": [
    "mean_ema <- count_study_dates |> \n",
    "  group_by(subid) |> \n",
    "  summarize(n_total = sum(n), prompt_total = sum(n_prompts)) |> \n",
    "  mutate(mean = n_total/prompt_total) |> \n",
    "  ungroup() |> \n",
    "  summarize(mean = mean(mean))"
   ],
   "id": "cce629b7-5448-46d1-97f0-47637e603157"
  },
  {
   "cell_type": "markdown",
   "metadata": {},
   "source": [
    "On average participants (N = 247) completed 0.74 daily surveys each day they were on study. That is their overall adherence for a once daily EMA was 74%.\n",
    "\n",
    "Hist of overall adherence by subid"
   ],
   "id": "7a799355-bae9-4e22-86e0-7af720481b4a"
  },
  {
   "cell_type": "code",
   "execution_count": null,
   "metadata": {},
   "outputs": [
    {
     "output_type": "display_data",
     "metadata": {},
     "data": {
      "image/png": "[encoded data removed]"
     }
    }
   ],
   "source": [
    "count_study_dates |> \n",
    "  group_by(subid) |> \n",
    "  summarise(n_total = sum(n),\n",
    "            n_prompts = sum(n_prompts)) |> \n",
    "  mutate(adherence = n_total/n_prompts) |> \n",
    "  ggplot(aes(x = adherence)) +\n",
    "  geom_histogram(color = \"black\", fill = \"light grey\", binwidth = .1, center = .55) +\n",
    "  scale_x_continuous(breaks = c(0, 0.10, 0.20, 0.30, 0.40, 0.50, 0.60, 0.70, 0.80, 0.90, 1.0)) +\n",
    "  labs(y = \"Frequency\", x = \"Proportion of daily survey's completed\",\n",
    "       subtitle = \"Daily Survey Adherence (N = 247)\") +\n",
    "  geom_vline(aes(xintercept = mean_ema$mean), linewidth = .3) +\n",
    "  theme_classic()"
   ],
   "id": "9fdb3de8-69d5-4bf9-a1aa-dff094fd5639"
  },
  {
   "cell_type": "markdown",
   "metadata": {},
   "source": [
    "### Adherence over time (Burden sample/4 months on study)\n",
    "\n",
    "Slice into 30 day bins"
   ],
   "id": "97e281c6-c6c2-4c38-a41c-ec46c0528caf"
  },
  {
   "cell_type": "code",
   "execution_count": null,
   "metadata": {},
   "outputs": [],
   "source": [
    "study_months <- count_study_dates |> \n",
    "  group_by(subid) |> \n",
    "  slice(1:30) |> \n",
    "  mutate(month = 1) |> \n",
    "  bind_rows(count_study_dates |> \n",
    "    group_by(subid) |> \n",
    "    slice(31:60) |> \n",
    "    mutate(month = 2)) |> \n",
    "  bind_rows(count_study_dates |> \n",
    "    group_by(subid) |> \n",
    "    slice(61:90) |> \n",
    "    mutate(month = 3)) |> \n",
    "  bind_rows(count_study_dates |> \n",
    "    group_by(subid) |> \n",
    "    slice(91:120) |> \n",
    "    mutate(month = 4)) |> \n",
    "  bind_rows(count_study_dates |> \n",
    "    group_by(subid) |> \n",
    "    slice(121:150) |> \n",
    "    mutate(month = 5)) |> \n",
    "  bind_rows(count_study_dates |> \n",
    "    group_by(subid) |> \n",
    "    slice(151:180) |> \n",
    "    mutate(month = 6)) |> \n",
    "  bind_rows(count_study_dates |> \n",
    "    group_by(subid) |> \n",
    "    slice(181:210) |> \n",
    "    mutate(month = 7)) |> \n",
    "  bind_rows(count_study_dates |> \n",
    "    group_by(subid) |> \n",
    "    slice(211:240) |> \n",
    "    mutate(month = 8)) |> \n",
    "  bind_rows(count_study_dates |> \n",
    "    group_by(subid) |> \n",
    "    slice(241:270) |> \n",
    "    mutate(month = 9)) |> \n",
    "  bind_rows(count_study_dates |> \n",
    "    group_by(subid) |> \n",
    "    slice(271:300) |> \n",
    "    mutate(month = 10)) |> \n",
    "  bind_rows(count_study_dates |> \n",
    "    group_by(subid) |> \n",
    "    slice(301:330) |> \n",
    "    mutate(month = 11)) |> \n",
    "  bind_rows(count_study_dates |> \n",
    "    group_by(subid) |> \n",
    "    slice(331:360) |> \n",
    "    mutate(month = 12)) |> \n",
    "  ungroup()"
   ],
   "id": "5aa5f02c-77db-4546-b0af-2e1fe5f96fcf"
  },
  {
   "cell_type": "markdown",
   "metadata": {},
   "source": [
    "Get individual adherence scores"
   ],
   "id": "0faa2551-7a86-4c27-bd4b-d000d4af3b63"
  },
  {
   "cell_type": "code",
   "execution_count": null,
   "metadata": {},
   "outputs": [],
   "source": [
    "ema_month_adherence <- study_months |> \n",
    "  group_by(subid, month) |> \n",
    "  summarize(sum_n = sum(n), sum_prompts = sum(n_prompts), .groups = \"rowwise\") |> \n",
    "  mutate(adherence = sum_n/sum_prompts) |> \n",
    "  ungroup()"
   ],
   "id": "aa07ba7c-131f-41d0-825d-f8b35c144ae4"
  },
  {
   "cell_type": "markdown",
   "metadata": {},
   "source": [
    "Summarize total adherence"
   ],
   "id": "f83dadb7-9a32-479b-8c5d-1fab9358459a"
  },
  {
   "cell_type": "code",
   "execution_count": null,
   "metadata": {},
   "outputs": [
    {
     "output_type": "stream",
     "name": "stdout",
     "text": [
      "# A tibble: 12 × 2\n",
      "   month mean_adherence\n",
      "   <dbl>          <dbl>\n",
      " 1     1          0.840\n",
      " 2     2          0.813\n",
      " 3     3          0.789\n",
      " 4     4          0.751\n",
      " 5     5          0.741\n",
      " 6     6          0.748\n",
      " 7     7          0.732\n",
      " 8     8          0.728\n",
      " 9     9          0.716\n",
      "10    10          0.715\n",
      "11    11          0.685\n",
      "12    12          0.687"
     ]
    }
   ],
   "source": [
    "ema_month_adherence |> \n",
    "  group_by(month) |> \n",
    "  summarize(mean_adherence = mean(adherence)) "
   ],
   "id": "70f9b224-9243-44db-b2b7-df9295399273"
  },
  {
   "cell_type": "markdown",
   "metadata": {},
   "source": [
    "Plot adherence by month"
   ],
   "id": "619af255-2feb-4feb-846f-efd464dc578f"
  },
  {
   "cell_type": "code",
   "execution_count": null,
   "metadata": {},
   "outputs": [
    {
     "output_type": "display_data",
     "metadata": {},
     "data": {
      "image/png": "[encoded data removed]"
     }
    }
   ],
   "source": [
    "ema_month_adherence |> \n",
    "  group_by(month) |> \n",
    "  summarize(mean_adherence = mean(adherence)) |> \n",
    "  ggplot(aes(x = month, y = mean_adherence)) +\n",
    "  geom_point() +\n",
    "  geom_line() +\n",
    "  theme_classic() +\n",
    "  scale_x_continuous(name = \"month\", \n",
    "                     breaks = seq(1, 12, 1)) +\n",
    "  scale_y_continuous(name = \"adherence\", \n",
    "                     breaks = seq(0, 1, .1), \n",
    "                     limits = c(0, 1)) +\n",
    "  labs(title = \"Daily survey adherence over time (N = 247) \") +\n",
    "  theme(legend.title = element_blank()) +\n",
    "  geom_hline(aes(yintercept = mean(mean_adherence)), linetype = \"dashed\", linewidth = .3)"
   ],
   "id": "a0cb4e2d-eb4b-4b3e-beaa-3f6fe5156b11"
  }
 ],
 "nbformat": 4,
 "nbformat_minor": 5,
 "metadata": {}
}
