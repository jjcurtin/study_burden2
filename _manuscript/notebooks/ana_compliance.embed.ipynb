{
 "cells": [
  {
   "cell_type": "markdown",
   "metadata": {},
   "source": [
    "# EMA adherence\n",
    "\n",
    "Kendra Wyant  \n",
    "September 18, 2024\n",
    "\n",
    "Purpose: This file calculates overall weekly EMA adherence using EMA survey data (`survey_daily.csv`).\n",
    "\n",
    "## Set up"
   ],
   "id": "6e790fd9-e520-4216-994b-c765d554ed78"
  },
  {
   "cell_type": "code",
   "execution_count": null,
   "metadata": {},
   "outputs": [
    {
     "output_type": "stream",
     "name": "stderr",
     "text": [
      "── Attaching core tidyverse packages ──────────────────────── tidyverse 2.0.0 ──\n",
      "✔ dplyr     1.1.4     ✔ readr     2.1.5\n",
      "✔ forcats   1.0.0     ✔ stringr   1.5.1\n",
      "✔ ggplot2   3.5.1     ✔ tibble    3.2.1\n",
      "✔ lubridate 1.9.3     ✔ tidyr     1.3.1\n",
      "✔ purrr     1.0.2     \n",
      "── Conflicts ────────────────────────────────────────── tidyverse_conflicts() ──\n",
      "✖ dplyr::filter() masks stats::filter()\n",
      "✖ dplyr::lag()    masks stats::lag()\n",
      "ℹ Use the conflicted package (<http://conflicted.r-lib.org/>) to force all conflicts to become errors"
     ]
    },
    {
     "output_type": "stream",
     "name": "stderr",
     "text": [
      "ℹ SHA-1 hash of file is \"a58e57da996d1b70bb9a5b58241325d6fd78890f\""
     ]
    }
   ],
   "source": [
    "#| message: false\n",
    "\n",
    "options(conflicts.policy = \"depends.ok\")\n",
    "library(tidyverse) "
   ],
   "id": "3f63a8c5-13b9-4452-bb83-ae8ac097d46a"
  },
  {
   "cell_type": "markdown",
   "metadata": {},
   "source": [
    "### Data"
   ],
   "id": "82b7292e-7750-4d38-84f0-d3a335d274ff"
  },
  {
   "cell_type": "code",
   "execution_count": null,
   "metadata": {},
   "outputs": [],
   "source": [
    "ema <- read_csv(here::here(path_shared, \"survey_daily.csv\"),\n",
    "                show_col_types = FALSE) |> \n",
    "  mutate(start_date = as_datetime(start_date, tz = \"America/Chicago\"))\n",
    "\n",
    "burden_quant <- read_csv(here::here(path_burden, \"burden_quant.csv\"),\n",
    "                   show_col_types = FALSE)\n",
    "burden_qual <- read_csv(here::here(path_burden, \"burden_qual.csv\"),\n",
    "                   show_col_types = FALSE)"
   ],
   "id": "1264f201-30fd-4339-b3aa-d0663ffbaf12"
  },
  {
   "cell_type": "markdown",
   "metadata": {},
   "source": [
    "subids"
   ],
   "id": "234d0def-d761-4c27-945e-3fff57cfa4fc"
  },
  {
   "cell_type": "code",
   "execution_count": null,
   "metadata": {},
   "outputs": [],
   "source": [
    "subids <- burden_quant |> \n",
    "  select(subid) |> \n",
    "  bind_rows(burden_qual |> \n",
    "              select(subid)) |> \n",
    "  pull(subid) |>\n",
    "  unique()"
   ],
   "id": "e3d9deae-2012-42f8-96dc-bd511128a30f"
  },
  {
   "cell_type": "markdown",
   "metadata": {},
   "source": [
    "Filter ema to burden subids"
   ],
   "id": "f228cefb-8f02-4268-a807-bc70184b4b3d"
  },
  {
   "cell_type": "code",
   "execution_count": null,
   "metadata": {},
   "outputs": [],
   "source": [
    "ema <- ema |>\n",
    "  filter(subid %in% subids)"
   ],
   "id": "47a3ff3f-a45e-4fdb-bed7-747eaf671222"
  },
  {
   "cell_type": "markdown",
   "metadata": {},
   "source": [
    "### Overall Adherence\n",
    "\n",
    "Data still in long format so slicing to single variable on survey"
   ],
   "id": "c7c54c62-ac66-4945-8251-20f872ad07b5"
  },
  {
   "cell_type": "code",
   "execution_count": null,
   "metadata": {},
   "outputs": [],
   "source": [
    "ema <- ema |> \n",
    "  group_by(subid, start_date) |> \n",
    "  slice(1) |> \n",
    "  ungroup()"
   ],
   "id": "c391ca16-a26d-4a6a-962c-1de88bba6f31"
  },
  {
   "cell_type": "markdown",
   "metadata": {},
   "source": [
    "Study start and end dates for each subid"
   ],
   "id": "14cd3742-23d4-459b-bcfe-308354cfeede"
  },
  {
   "cell_type": "code",
   "execution_count": null,
   "metadata": {},
   "outputs": [],
   "source": [
    "study_start <- ema |> \n",
    "  group_by(subid) |> \n",
    "  arrange(start_date) |> \n",
    "  slice(1) |> \n",
    "  ungroup() |> \n",
    "  mutate(study_start = as_date(start_date)) |> \n",
    "  select(subid, study_start)\n",
    "\n",
    "study_end <- ema |> \n",
    "  group_by(subid) |> \n",
    "  arrange(desc(start_date)) |> \n",
    "  slice(1) |> \n",
    "  ungroup() |> \n",
    "  mutate(study_end = as_date(start_date)) |> \n",
    "  select(subid, study_end)\n",
    "\n",
    "dates <- tibble(subid = subids) |> \n",
    "  full_join(study_start, by = \"subid\") |> \n",
    "  full_join(study_end, by = \"subid\")"
   ],
   "id": "0247ed3f-c987-4cbf-8528-c8af37bf06d0"
  },
  {
   "cell_type": "code",
   "execution_count": null,
   "metadata": {},
   "outputs": [
    {
     "output_type": "display_data",
     "metadata": {},
     "data": {
      "text/markdown": [
       "  ---------------------------------------------------------------------------------------------\n",
       "  skim_variable     n_missing   complete_rate min          max          median         n_unique\n",
       "  --------------- ----------- --------------- ------------ ------------ ------------ ----------\n",
       "  study_start               0               1 2003-04-21   2023-12-20   2022-11-30          197\n",
       "\n",
       "  study_end                 0               1 2022-04-05   2024-05-01   2023-10-31          146\n",
       "  ---------------------------------------------------------------------------------------------\n"
      ]
     }
    }
   ],
   "source": [
    "dates |> \n",
    "  select(study_start, study_end) |> \n",
    "  skimr::skim()"
   ],
   "id": "42a7759a-7de2-4160-8b56-3569bd886509"
  },
  {
   "cell_type": "markdown",
   "metadata": {},
   "source": [
    "Subid 1146 has incorrect start year. Formatting issue with first EMA - remove this survey for calculating dates."
   ],
   "id": "b239b139-7349-44bd-be62-44b4245dcb15"
  },
  {
   "cell_type": "code",
   "execution_count": null,
   "metadata": {},
   "outputs": [
    {
     "output_type": "stream",
     "name": "stdout",
     "text": [
      "# A tibble: 242 × 9\n",
      "   subid user_survey_guid    start_date          complete_date status utc_offset\n",
      "   <dbl> <chr>               <dttm>                      <dbl> <chr>  <chr>     \n",
      " 1  1146 0b4ef392-61ef-4631… 2003-04-21 15:54:28           -1  incom… \"{\\\"utc_o…\n",
      " 2  1146 4de9d05a-ba2e-41a9… 2022-08-16 12:42:25   1660672214. compl… \"{\\\"utc_o…\n",
      " 3  1146 da1e87ed-6f87-4a4a… 2022-08-17 12:46:31   1660758482. compl… \"{\\\"utc_o…\n",
      " 4  1146 c34872a2-3ffa-4bec… 2022-08-18 12:45:10   1660845108. compl… \"{\\\"utc_o…\n",
      " 5  1146 a4388ae0-1422-49fe… 2022-08-19 16:41:41   1660945424. compl… \"{\\\"utc_o…\n",
      " 6  1146 c5780e26-accc-4a41… 2022-08-20 13:38:39   1661020845. compl… \"{\\\"utc_o…\n",
      " 7  1146 ad9fb4d4-c10e-4fe1… 2022-08-21 16:11:17   1661116421. compl… \"{\\\"utc_o…\n",
      " 8  1146 35983c35-a6f2-4e3e… 2022-08-22 19:42:38           -1  incom… \"{\\\"utc_o…\n",
      " 9  1146 f8b82f7f-caac-4b68… 2022-08-23 10:57:44   1661270349. compl… \"{\\\"utc_o…\n",
      "10  1146 7de068b0-6a3b-414b… 2022-08-24 17:19:08   1661379606. compl… \"{\\\"utc_o…\n",
      "# ℹ 232 more rows\n",
      "# ℹ 3 more variables: variable_name <chr>, answer <chr>, answer_date <dbl>"
     ]
    }
   ],
   "source": [
    "ema |> \n",
    "  filter(subid == 1146)"
   ],
   "id": "211c331c-ee9c-4a48-a27f-e8767bab8ccf"
  },
  {
   "cell_type": "markdown",
   "metadata": {},
   "source": [
    "Recalculate study start and end dates"
   ],
   "id": "b742ccf9-5efe-4e5c-bb54-77b8b1258d24"
  },
  {
   "cell_type": "code",
   "execution_count": null,
   "metadata": {},
   "outputs": [],
   "source": [
    "study_start <- ema |> \n",
    "  group_by(subid) |> \n",
    "  arrange(start_date) |> \n",
    "  slice(1) |> \n",
    "  ungroup() |> \n",
    "  mutate(study_start = as_date(start_date)) |> \n",
    "  select(subid, study_start)\n",
    "\n",
    "study_end <- ema |> \n",
    "  group_by(subid) |> \n",
    "  arrange(desc(start_date)) |> \n",
    "  slice(1) |> \n",
    "  ungroup() |> \n",
    "  mutate(study_end = as_date(start_date)) |> \n",
    "  select(subid, study_end)\n",
    "\n",
    "dates <- tibble(subid = subids) |> \n",
    "  full_join(study_start, by = \"subid\") |> \n",
    "  full_join(study_end, by = \"subid\")"
   ],
   "id": "0da858d9-0f5d-4be2-8eb9-09b72202334e"
  },
  {
   "cell_type": "markdown",
   "metadata": {},
   "source": [
    "Get all study days for each subid"
   ],
   "id": "8c14c884-3f53-4647-9297-49a5da5f95a2"
  },
  {
   "cell_type": "code",
   "execution_count": null,
   "metadata": {},
   "outputs": [],
   "source": [
    "# function to map over\n",
    "get_study_days <- function(the_subid, dates) {\n",
    "  study_start <- dates |>  filter(subid == the_subid) |>  pull(study_start)\n",
    "  study_end <- dates |>  filter(subid == the_subid) |> pull(study_end)\n",
    "  study_days <- tibble(subid = the_subid, study_day = seq(study_start, study_end - days(1), by = \"day\")) \n",
    "  return(study_days)\n",
    "}\n",
    "\n",
    "study_dates <- subids |> \n",
    "  map_dfr(~get_study_days(.x, dates))"
   ],
   "id": "789b4e2c-6453-4c8b-aab6-056b41b768b4"
  },
  {
   "cell_type": "markdown",
   "metadata": {},
   "source": [
    "Count surveys per study day (day starts at 6 am)"
   ],
   "id": "a8d06d33-1cc1-4369-a8bc-0a022a1d0420"
  },
  {
   "cell_type": "code",
   "execution_count": null,
   "metadata": {},
   "outputs": [],
   "source": [
    "ema_count <- ema |>\n",
    "  mutate(study_day = if_else(hour(start_date) >= 6, \n",
    "                        as_date(start_date),\n",
    "                        as_date(start_date) - days(1))) |> \n",
    "  count(subid, study_day) \n",
    "\n",
    "\n",
    "ema_count <- ema_count |> \n",
    "  mutate(n = if_else(n > 1, 1, n))"
   ],
   "id": "3f78fcc2-0945-42bf-a26e-4f20b00c6130"
  },
  {
   "cell_type": "markdown",
   "metadata": {},
   "source": [
    "Add counts to study dates"
   ],
   "id": "5c66a239-61c8-4f06-a10d-cafeffe9fac5"
  },
  {
   "cell_type": "code",
   "execution_count": null,
   "metadata": {},
   "outputs": [],
   "source": [
    "count_study_dates <- study_dates |> \n",
    "  left_join(ema_count, by = c(\"subid\", \"study_day\")) |> \n",
    "  mutate(n = if_else(is.na(n), 0, n)) |> \n",
    "  mutate(n_prompts = 1) "
   ],
   "id": "96a39e0e-1622-434c-b34f-0f14cf76fa49"
  },
  {
   "cell_type": "markdown",
   "metadata": {},
   "source": [
    "calculate mean adherence"
   ],
   "id": "27be647d-4eeb-4aac-91c3-35cf251c9228"
  },
  {
   "cell_type": "code",
   "execution_count": null,
   "metadata": {},
   "outputs": [],
   "source": [
    "mean_ema <- count_study_dates |> \n",
    "  group_by(subid) |> \n",
    "  summarize(n_total = sum(n), prompt_total = sum(n_prompts)) |> \n",
    "  mutate(mean = n_total/prompt_total) |> \n",
    "  ungroup() |> \n",
    "  summarize(mean = mean(mean))"
   ],
   "id": "7030d50c-e0a3-4b32-a0cf-f946df873140"
  },
  {
   "cell_type": "markdown",
   "metadata": {},
   "source": [
    "On average participants (N = 247) completed 0.75 daily surveys each day they were on study. That is their overall adherence for a once daily EMA was 75%.\n",
    "\n",
    "Hist of overall adherence by subid"
   ],
   "id": "146d6de3-08d4-46b9-b3b2-c020f7929c7a"
  },
  {
   "cell_type": "code",
   "execution_count": null,
   "metadata": {},
   "outputs": [
    {
     "output_type": "stream",
     "name": "stderr",
     "text": [
      "Warning: Using `size` aesthetic for lines was deprecated in ggplot2 3.4.0.\n",
      "ℹ Please use `linewidth` instead."
     ]
    },
    {
     "output_type": "display_data",
     "metadata": {},
     "data": {
      "image/png": "[encoded data removed]"
     }
    }
   ],
   "source": [
    "count_study_dates |> \n",
    "  group_by(subid) |> \n",
    "  summarise(n_total = sum(n),\n",
    "            n_prompts = sum(n_prompts)) |> \n",
    "  mutate(adherence = n_total/n_prompts) |> \n",
    "  ggplot(aes(x = adherence)) +\n",
    "  geom_histogram(color = \"black\", fill = \"light grey\", binwidth = .1, center = .55) +\n",
    "  scale_x_continuous(breaks = c(0, 0.10, 0.20, 0.30, 0.40, 0.50, 0.60, 0.70, 0.80, 0.90, 1.0)) +\n",
    "  labs(y = \"Frequency\", x = \"Proportion of daily survey's completed\",\n",
    "       subtitle = \"Daily Survey Adherence (N = 247)\") +\n",
    "  geom_vline(aes(xintercept = mean_ema$mean), size = .3) +\n",
    "  theme_classic()"
   ],
   "id": "35395ca4-7a60-43d9-b4d0-f78f7809163d"
  },
  {
   "cell_type": "markdown",
   "metadata": {},
   "source": [
    "## Adherence over time\n",
    "\n",
    "Quite a few people have over 365 days of EMA. **Lose these in adherence over 12 month plot**."
   ],
   "id": "b81a0989-b59c-4d5d-a41f-d4937f327cca"
  },
  {
   "cell_type": "code",
   "execution_count": null,
   "metadata": {},
   "outputs": [
    {
     "output_type": "stream",
     "name": "stdout",
     "text": [
      "# A tibble: 52 × 4\n",
      "   subid study_start study_end  n       \n",
      "   <dbl> <date>      <date>     <drtn>  \n",
      " 1  1152 2022-09-06  2023-10-27 416 days\n",
      " 2  1200 2022-11-01  2023-12-22 416 days\n",
      " 3  1146 2022-08-16  2023-10-03 413 days\n",
      " 4  1286 2023-02-28  2024-04-12 409 days\n",
      " 5  1211 2022-11-17  2023-12-27 405 days\n",
      " 6  1080 2022-05-10  2023-06-17 403 days\n",
      " 7  1197 2022-10-31  2023-12-08 403 days\n",
      " 8  1168 2022-10-03  2023-10-31 393 days\n",
      " 9  1035 2022-03-07  2023-04-01 390 days\n",
      "10  1071 2022-04-29  2023-05-23 389 days\n",
      "11  1036 2022-03-11  2023-04-03 388 days\n",
      "12  1044 2022-03-25  2023-04-17 388 days\n",
      "13  1302 2023-03-16  2024-04-07 388 days\n",
      "14  1029 2022-02-21  2023-03-15 387 days\n",
      "15  1030 2022-02-23  2023-03-16 386 days\n",
      "16  1046 2022-03-28  2023-04-18 386 days\n",
      "17  1122 2022-07-11  2023-08-01 386 days\n",
      "18  1249 2023-01-10  2024-01-31 386 days\n",
      "19  1012 2021-09-15  2022-10-05 385 days\n",
      "20  1112 2022-06-27  2023-07-17 385 days\n",
      "21  1148 2022-08-19  2023-09-08 385 days\n",
      "22  1033 2022-03-03  2023-03-22 384 days\n",
      "23  1048 2022-03-29  2023-04-17 384 days\n",
      "24  1051 2022-03-30  2023-04-17 383 days\n",
      "25  1038 2022-03-14  2023-03-31 382 days\n",
      "26  1099 2022-06-13  2023-06-30 382 days\n",
      "27  1219 2022-12-02  2023-12-19 382 days\n",
      "28  1222 2022-12-02  2023-12-19 382 days\n",
      "29  1113 2022-06-27  2023-07-13 381 days\n",
      "30  1039 2022-03-14  2023-03-29 380 days\n",
      "31  1216 2022-11-30  2023-12-15 380 days\n",
      "32  1066 2022-04-27  2023-05-11 379 days\n",
      "33  1201 2022-11-01  2023-11-15 379 days\n",
      "34  1218 2022-12-01  2023-12-15 379 days\n",
      "35  1306 2023-03-21  2024-04-03 379 days\n",
      "36  1278 2023-02-16  2024-02-29 378 days\n",
      "37  1050 2022-03-31  2023-04-12 377 days\n",
      "38  1061 2022-04-22  2023-05-02 375 days\n",
      "39  1041 2022-03-17  2023-03-24 372 days\n",
      "40  1037 2022-03-14  2023-03-20 371 days\n",
      "41  1009 2021-05-04  2022-05-09 370 days\n",
      "42  1182 2022-10-19  2023-10-23 369 days\n",
      "43  1188 2022-10-22  2023-10-26 369 days\n",
      "44  1006 2021-04-21  2022-04-24 368 days\n",
      "45  1079 2022-05-09  2023-05-12 368 days\n",
      "46  1153 2022-09-06  2023-09-09 368 days\n",
      "47  1312 2023-03-27  2024-03-29 368 days\n",
      "48  1023 2022-02-09  2023-02-11 367 days\n",
      "49  1031 2022-02-28  2023-03-02 367 days\n",
      "50  1081 2022-05-10  2023-05-12 367 days\n",
      "51  1068 2022-04-27  2023-04-28 366 days\n",
      "52  1324 2023-04-18  2024-04-18 366 days"
     ]
    }
   ],
   "source": [
    "dates |> \n",
    "  mutate(n = study_end - study_start) |> \n",
    "  arrange(desc(n)) |> \n",
    "  filter(n > 365) |> \n",
    "  print(n = Inf)"
   ],
   "id": "97835f3b-0e17-4175-801c-29760585efd4"
  },
  {
   "cell_type": "markdown",
   "metadata": {},
   "source": [
    "Slice into 30 day bins"
   ],
   "id": "1e617bf2-0587-4b0b-9924-7ea5b705335a"
  },
  {
   "cell_type": "code",
   "execution_count": null,
   "metadata": {},
   "outputs": [],
   "source": [
    "study_months <- count_study_dates |> \n",
    "  group_by(subid) |> \n",
    "  slice(1:30) |> \n",
    "  mutate(month = 1) |> \n",
    "  bind_rows(count_study_dates |> \n",
    "    group_by(subid) |> \n",
    "    slice(31:60) |> \n",
    "    mutate(month = 2)) |> \n",
    "  bind_rows(count_study_dates |> \n",
    "    group_by(subid) |> \n",
    "    slice(61:90) |> \n",
    "    mutate(month = 3)) |> \n",
    "  bind_rows(count_study_dates |> \n",
    "    group_by(subid) |> \n",
    "    slice(91:120) |> \n",
    "    mutate(month = 4)) |> \n",
    "  bind_rows(count_study_dates |> \n",
    "    group_by(subid) |> \n",
    "    slice(121:150) |> \n",
    "    mutate(month = 5)) |> \n",
    "  bind_rows(count_study_dates |> \n",
    "    group_by(subid) |> \n",
    "    slice(151:180) |> \n",
    "    mutate(month = 6)) |> \n",
    "  bind_rows(count_study_dates |> \n",
    "    group_by(subid) |> \n",
    "    slice(181:210) |> \n",
    "    mutate(month = 7)) |> \n",
    "  bind_rows(count_study_dates |> \n",
    "    group_by(subid) |> \n",
    "    slice(211:240) |> \n",
    "    mutate(month = 8)) |> \n",
    "  bind_rows(count_study_dates |> \n",
    "    group_by(subid) |> \n",
    "    slice(241:270) |> \n",
    "    mutate(month = 9)) |> \n",
    "  bind_rows(count_study_dates |> \n",
    "    group_by(subid) |> \n",
    "    slice(271:300) |> \n",
    "    mutate(month = 10)) |> \n",
    "  bind_rows(count_study_dates |> \n",
    "    group_by(subid) |> \n",
    "    slice(301:330) |> \n",
    "    mutate(month = 11)) |> \n",
    "  bind_rows(count_study_dates |> \n",
    "    group_by(subid) |> \n",
    "    slice(331:360) |> \n",
    "    mutate(month = 12)) |> \n",
    "  ungroup()"
   ],
   "id": "b4ad7c68-6f27-49b5-8dfc-6194b190fea7"
  },
  {
   "cell_type": "markdown",
   "metadata": {},
   "source": [
    "Get individual adherence scores"
   ],
   "id": "fe5ab138-2569-469b-afd8-8dbcb070ce1b"
  },
  {
   "cell_type": "code",
   "execution_count": null,
   "metadata": {},
   "outputs": [],
   "source": [
    "ema_month_adherence <- study_months |> \n",
    "  group_by(subid, month) |> \n",
    "  summarize(sum_n = sum(n), sum_prompts = sum(n_prompts), .groups = \"rowwise\") |> \n",
    "  mutate(adherence = sum_n/sum_prompts) |> \n",
    "  ungroup()"
   ],
   "id": "4976995f-323c-44c7-885b-6b6ee9c84179"
  },
  {
   "cell_type": "markdown",
   "metadata": {},
   "source": [
    "Summarize total adherence"
   ],
   "id": "fd31f23a-5db6-45fe-8b49-afb46b5b8394"
  },
  {
   "cell_type": "code",
   "execution_count": null,
   "metadata": {},
   "outputs": [
    {
     "output_type": "stream",
     "name": "stdout",
     "text": [
      "# A tibble: 12 × 2\n",
      "   month mean_adherence\n",
      "   <dbl>          <dbl>\n",
      " 1     1          0.840\n",
      " 2     2          0.813\n",
      " 3     3          0.790\n",
      " 4     4          0.753\n",
      " 5     5          0.744\n",
      " 6     6          0.746\n",
      " 7     7          0.731\n",
      " 8     8          0.724\n",
      " 9     9          0.698\n",
      "10    10          0.704\n",
      "11    11          0.688\n",
      "12    12          0.691"
     ]
    }
   ],
   "source": [
    "ema_month_adherence |> \n",
    "  group_by(month) |> \n",
    "  summarize(mean_adherence = mean(adherence)) "
   ],
   "id": "8102844d-1db8-4d23-9588-4e0ec9fcc71d"
  },
  {
   "cell_type": "markdown",
   "metadata": {},
   "source": [
    "Plot adherence by month"
   ],
   "id": "fd202346-c06b-45f8-8bb6-3a63e24d1880"
  },
  {
   "cell_type": "code",
   "execution_count": null,
   "metadata": {},
   "outputs": [
    {
     "output_type": "display_data",
     "metadata": {},
     "data": {
      "image/png": "[encoded data removed]"
     }
    }
   ],
   "source": [
    "ema_month_adherence |> \n",
    "  group_by(month) |> \n",
    "  summarize(mean_adherence = mean(adherence)) |> \n",
    "  ggplot(aes(x = month, y = mean_adherence)) +\n",
    "  geom_point() +\n",
    "  geom_line() +\n",
    "  theme_classic() +\n",
    "  scale_x_continuous(name = \"month\", \n",
    "                     breaks = seq(1, 12, 1)) +\n",
    "  scale_y_continuous(name = \"adherence\", \n",
    "                     breaks = seq(0, 1, .1), \n",
    "                     limits = c(0, 1)) +\n",
    "  labs(title = \"Daily survey adherence over time (N = 247) \") +\n",
    "  theme(legend.title = element_blank()) +\n",
    "  geom_hline(aes(yintercept = mean(mean_adherence)), linetype = \"dashed\", size = .3)"
   ],
   "id": "f5cf7b83-24f0-476f-878c-2a99f0dc8b98"
  }
 ],
 "nbformat": 4,
 "nbformat_minor": 5,
 "metadata": {}
}
